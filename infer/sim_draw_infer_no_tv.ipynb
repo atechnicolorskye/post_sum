{
 "cells": [
  {
   "cell_type": "code",
   "execution_count": 1,
   "metadata": {},
   "outputs": [],
   "source": [
    "import numpy as np\n",
    "import matplotlib.pyplot as plt\n",
    "import pystan\n",
    "import scipy as sp\n",
    "\n",
    "np.set_printoptions(precision=5, suppress=True)\n",
    "\n",
    "import gzip\n",
    "import os\n",
    "import pdb\n",
    "import pickle\n",
    "\n",
    "seed = 1\n",
    "\n",
    "np.random.seed(seed)\n",
    "threads = 1\n",
    "os.environ['STAN_NUM_THREADS'] = str(threads)"
   ]
  },
  {
   "cell_type": "code",
   "execution_count": 2,
   "metadata": {},
   "outputs": [],
   "source": [
    "n_N = 500\n",
    "n_F = 5\n",
    "n_Y = 10\n",
    "n_D = 2000\n",
    "n_W = 1000\n",
    "n_C = 4\n",
    "AD = 0.95\n",
    "\n",
    "Y = np.zeros((n_N, n_Y))\n",
    "B = np.zeros((n_Y, n_F))\n",
    "log_F_sigma = np.zeros((n_F))\n",
    "\n",
    "# y hyperparameters\n",
    "log_y_sigma = np.random.normal(0, 0.25) * np.ones(n_Y)\n",
    "\n",
    "# f hyperparameters\n",
    "log_f_sigma = np.zeros((n_F))\n",
    "# diag chol\n",
    "# chol_log_f_sigma = np.diag(np.abs(np.random.normal(0, 0.1, n_F)))\n",
    "# full chol\n",
    "# chol_log_f_sigma = np.random.normal(0, 1, n_F * n_F).reshape(n_F, n_F)\n",
    "# row, col = np.diag_indices(n_F)\n",
    "# chol_log_f_sigma[row, col] = np.abs(chol_log_f_sigma[row, col])\n",
    "\n",
    "# B\n",
    "# base_order = 1\n",
    "base_order = 0.05\n",
    "bias_order = 0.5\n",
    "p_connect = 0.3\n",
    "n_connect = np.int(p_connect * n_Y * n_F)\n",
    "add = (2 * np.random.binomial(1, 0.5, n_connect) - 1) * (bias_order + np.abs(np.random.standard_normal(n_connect)))\n",
    "B_ = base_order * np.random.standard_normal(n_Y * n_F)\n",
    "B_[:n_connect] = B_[:n_connect] + add\n",
    "B_ = np.random.permutation(B_).reshape(n_Y, n_F)\n",
    "row, col = np.triu_indices(n_Y, 0, n_F)\n",
    "B_[row, col] = 0\n",
    "np.fill_diagonal(B_, 1)\n",
    "\n",
    "# Initialise\n",
    "log_F_sigma = log_f_sigma # chol_log_f_sigma @ np.random.standard_normal(n_F) \n",
    "B = B_ # + base_order * np.tril(np.random.standard_normal(n_Y * n_F).reshape(n_Y, n_F), k=-1)\n",
    "\n",
    "for i in range(1, n_N):\n",
    "    Y[i] = B @ (np.exp(log_F_sigma) * np.random.standard_normal(n_F)) + np.exp(log_y_sigma) * np.random.standard_normal(n_Y)\n",
    "\n",
    "dat = {\n",
    "    'P': n_Y,\n",
    "    'N': n_N,\n",
    "    'D': n_F,\n",
    "    # 'fac_mu': np.zeros(n_F),\n",
    "    'y': Y\n",
    "    }"
   ]
  },
  {
   "cell_type": "code",
   "execution_count": 3,
   "metadata": {},
   "outputs": [
    {
     "name": "stderr",
     "output_type": "stream",
     "text": [
      "INFO:pystan:COMPILING THE C++ CODE FOR MODEL anon_model_18ba64d933486dd9fc408ae85dbcdf47 NOW.\n",
      "WARNING:pystan:Maximum (flat) parameter count (1000) exceeded: skipping diagnostic tests for n_eff and Rhat.\n",
      "To run all diagnostics call pystan.check_hmc_diagnostics(fit)\n"
     ]
    }
   ],
   "source": [
    "extra_compile_args = ['-pthread', '-DSTAN_THREADS']\n",
    "model = pystan.StanModel(file='infer.stan', extra_compile_args=extra_compile_args)\n",
    "fit = model.sampling(data=dat, iter=n_D, warmup=n_W, seed=seed, chains=n_C, control={'adapt_delta':AD}, n_jobs=threads)"
   ]
  },
  {
   "cell_type": "code",
   "execution_count": 4,
   "metadata": {},
   "outputs": [],
   "source": [
    "res = fit.extract(pars=['beta', 'fac'])\n",
    "\n",
    "beta = B.flatten()\n",
    "beta_hat = np.mean(res['beta'], axis=0).flatten()"
   ]
  },
  {
   "cell_type": "code",
   "execution_count": 7,
   "metadata": {},
   "outputs": [
    {
     "data": {
      "text/plain": [
       "<matplotlib.legend.Legend at 0x121f640d0>"
      ]
     },
     "execution_count": 7,
     "metadata": {},
     "output_type": "execute_result"
    },
    {
     "data": {
      "image/png": "[encoded data removed]",
      "text/plain": [
       "<Figure size 432x288 with 1 Axes>"
      ]
     },
     "metadata": {
      "needs_background": "light"
     },
     "output_type": "display_data"
    }
   ],
   "source": [
    "plt.scatter(beta, beta_hat)\n",
    "m, b, _, _, _ = sp.stats.linregress(beta, beta_hat)\n",
    "plt.plot(beta, b + m * beta, '-', color='g', label='Least Squares')\n",
    "plt.plot([-2, 2], [-2, 2], color='r', label='y = x')\n",
    "plt.xlabel('Simulated Loadings')\n",
    "plt.ylabel('Estimated Loadings')\n",
    "plt.legend()"
   ]
  },
  {
   "cell_type": "code",
   "execution_count": null,
   "metadata": {},
   "outputs": [],
   "source": []
  },
  {
   "cell_type": "code",
   "execution_count": null,
   "metadata": {},
   "outputs": [],
   "source": []
  }
 ],
 "metadata": {
  "kernelspec": {
   "display_name": "Python 3",
   "language": "python",
   "name": "python3"
  },
  "language_info": {
   "codemirror_mode": {
    "name": "ipython",
    "version": 3
   },
   "file_extension": ".py",
   "mimetype": "text/x-python",
   "name": "python",
   "nbconvert_exporter": "python",
   "pygments_lexer": "ipython3",
   "version": "3.7.6"
  }
 },
 "nbformat": 4,
 "nbformat_minor": 4
}
