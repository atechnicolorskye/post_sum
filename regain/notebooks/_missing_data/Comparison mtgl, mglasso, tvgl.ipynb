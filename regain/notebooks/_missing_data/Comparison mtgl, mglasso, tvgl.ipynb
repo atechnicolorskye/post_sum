{
 "cells": [
  {
   "cell_type": "code",
   "execution_count": 1,
   "metadata": {},
   "outputs": [
    {
     "name": "stderr",
     "output_type": "stream",
     "text": [
      "/home/vero/miniconda2/envs/py35/lib/python3.5/site-packages/sklearn/utils/deprecation.py:144: FutureWarning: The sklearn.datasets.base module is  deprecated in version 0.22 and will be removed in version 0.24. The corresponding classes / functions should instead be imported from sklearn.datasets. Anything that cannot be imported from sklearn.datasets is now part of the private API.\n",
      "  warnings.warn(message, FutureWarning)\n"
     ]
    }
   ],
   "source": [
    "%matplotlib inline\n",
    "import numpy as np\n",
    "from sklearn.covariance import empirical_covariance\n",
    "\n",
    "from regain.utils import structure_error\n",
    "from regain import datasets\n",
    "from regain.covariance.missing_time_graphical_lasso import MissingTimeGraphicalLasso\n",
    "from regain.covariance.time_graphical_lasso_ import TimeGraphicalLasso\n",
    "\n",
    "from sklearn.datasets.base import Bunch\n",
    "# config\n",
    "np.random.seed(0)\n",
    "n_samples = 100\n",
    "T = 10\n",
    "beta = 1"
   ]
  },
  {
   "cell_type": "code",
   "execution_count": 2,
   "metadata": {},
   "outputs": [],
   "source": [
    "from TVGL import TVGL\n",
    "from TVGL import inferGraphLaplacian"
   ]
  },
  {
   "cell_type": "code",
   "execution_count": 3,
   "metadata": {},
   "outputs": [],
   "source": [
    "from regain.covariance.time_graphical_lasso_ import time_graphical_lasso\n",
    "from sklearn.impute import SimpleImputer"
   ]
  },
  {
   "cell_type": "code",
   "execution_count": 7,
   "metadata": {},
   "outputs": [
    {
     "name": "stderr",
     "output_type": "stream",
     "text": [
      "/home/vero/miniconda2/envs/py35/lib/python3.5/site-packages/rpy2/rinterface/__init__.py:146: RRuntimeWarning: Installing package into ‘/home/vero/R/x86_64-pc-linux-gnu-library/3.5’\n",
      "(as ‘lib’ is unspecified)\n",
      "\n",
      "  warnings.warn(x, RRuntimeWarning)\n"
     ]
    },
    {
     "data": {
      "text/plain": [
       "rpy2.rinterface.NULL"
      ]
     },
     "execution_count": 7,
     "metadata": {},
     "output_type": "execute_result"
    }
   ],
   "source": [
    "from rpy2.robjects.packages import importr\n",
    "utils = importr('utils')\n",
    "utils.install_packages('cglasso')"
   ]
  },
  {
   "cell_type": "code",
   "execution_count": 8,
   "metadata": {},
   "outputs": [
    {
     "name": "stderr",
     "output_type": "stream",
     "text": [
      "/home/vero/miniconda2/envs/py35/lib/python3.5/site-packages/rpy2/rinterface/__init__.py:146: RRuntimeWarning: In addition: \n",
      "  warnings.warn(x, RRuntimeWarning)\n",
      "/home/vero/miniconda2/envs/py35/lib/python3.5/site-packages/rpy2/rinterface/__init__.py:146: RRuntimeWarning: Warning message:\n",
      "\n",
      "  warnings.warn(x, RRuntimeWarning)\n",
      "/home/vero/miniconda2/envs/py35/lib/python3.5/site-packages/rpy2/rinterface/__init__.py:146: RRuntimeWarning: package ‘cglasso’ is not available (for R version 3.5.1) \n",
      "\n",
      "  warnings.warn(x, RRuntimeWarning)\n"
     ]
    },
    {
     "ename": "RRuntimeError",
     "evalue": "Error in loadNamespace(name) : there is no package called ‘cglasso’\n",
     "output_type": "error",
     "traceback": [
      "\u001b[0;31m---------------------------------------------------------------------------\u001b[0m",
      "\u001b[0;31mRRuntimeError\u001b[0m                             Traceback (most recent call last)",
      "\u001b[0;32m<ipython-input-8-9ac977709b7e>\u001b[0m in \u001b[0;36m<module>\u001b[0;34m\u001b[0m\n\u001b[1;32m     11\u001b[0m \u001b[0;34m\u001b[0m\u001b[0m\n\u001b[1;32m     12\u001b[0m \u001b[0;31m# import R's \"base\" package\u001b[0m\u001b[0;34m\u001b[0m\u001b[0;34m\u001b[0m\u001b[0m\n\u001b[0;32m---> 13\u001b[0;31m \u001b[0mglasso\u001b[0m \u001b[0;34m=\u001b[0m \u001b[0mimportr\u001b[0m\u001b[0;34m(\u001b[0m\u001b[0;34m'cglasso'\u001b[0m\u001b[0;34m)\u001b[0m\u001b[0;34m\u001b[0m\u001b[0m\n\u001b[0m\u001b[1;32m     14\u001b[0m \u001b[0;34m\u001b[0m\u001b[0m\n\u001b[1;32m     15\u001b[0m \u001b[0mwarnings\u001b[0m\u001b[0;34m.\u001b[0m\u001b[0msimplefilter\u001b[0m\u001b[0;34m(\u001b[0m\u001b[0;34m'ignore'\u001b[0m\u001b[0;34m)\u001b[0m\u001b[0;34m\u001b[0m\u001b[0m\n",
      "\u001b[0;32m~/miniconda2/envs/py35/lib/python3.5/site-packages/rpy2/robjects/packages.py\u001b[0m in \u001b[0;36mimportr\u001b[0;34m(name, lib_loc, robject_translations, signature_translation, suppress_messages, on_conflict, symbol_r2python, symbol_check_after, data)\u001b[0m\n\u001b[1;32m    451\u001b[0m     if _package_has_namespace(rname, \n\u001b[1;32m    452\u001b[0m                               _system_file(package = rname)):\n\u001b[0;32m--> 453\u001b[0;31m         \u001b[0menv\u001b[0m \u001b[0;34m=\u001b[0m \u001b[0m_get_namespace\u001b[0m\u001b[0;34m(\u001b[0m\u001b[0mrname\u001b[0m\u001b[0;34m)\u001b[0m\u001b[0;34m\u001b[0m\u001b[0m\n\u001b[0m\u001b[1;32m    454\u001b[0m         \u001b[0mversion\u001b[0m \u001b[0;34m=\u001b[0m \u001b[0m_get_namespace_version\u001b[0m\u001b[0;34m(\u001b[0m\u001b[0mrname\u001b[0m\u001b[0;34m)\u001b[0m\u001b[0;34m[\u001b[0m\u001b[0;36m0\u001b[0m\u001b[0;34m]\u001b[0m\u001b[0;34m\u001b[0m\u001b[0m\n\u001b[1;32m    455\u001b[0m         \u001b[0mexported_names\u001b[0m \u001b[0;34m=\u001b[0m \u001b[0mset\u001b[0m\u001b[0;34m(\u001b[0m\u001b[0m_get_namespace_exports\u001b[0m\u001b[0;34m(\u001b[0m\u001b[0mrname\u001b[0m\u001b[0;34m)\u001b[0m\u001b[0;34m)\u001b[0m\u001b[0;34m\u001b[0m\u001b[0m\n",
      "\u001b[0;31mRRuntimeError\u001b[0m: Error in loadNamespace(name) : there is no package called ‘cglasso’\n"
     ]
    }
   ],
   "source": [
    "from tqdm import tqdm\n",
    "import time\n",
    "import warnings \n",
    "\n",
    "import rpy2\n",
    "from rpy2.robjects.packages import importr\n",
    "import rpy2.robjects as robjects\n",
    "\n",
    "import rpy2.robjects.numpy2ri\n",
    "rpy2.robjects.numpy2ri.activate()\n",
    "\n",
    "# import R's \"base\" package\n",
    "glasso = importr('cglasso')\n",
    "\n",
    "warnings.simplefilter('ignore')\n",
    "results = {}\n",
    "\n",
    "\n",
    "\n",
    "kernel = np.zeros((T, T))\n",
    "for i in range(T-1):\n",
    "    kernel[i, i+1] = beta\n",
    "\n",
    "\n",
    "thetas = []\n",
    "for n_dim_obs in tqdm(np.logspace(1, 2, 5)):\n",
    "    res, elapsed_time = [], []\n",
    "    res1, elapsed_time1 = [], []\n",
    "    res2, elapsed_time2 = [], []\n",
    "    \n",
    "    res3, elapsed_time3 = [], []\n",
    "    tt = [] \n",
    "    \n",
    "    alpha = np.log(n_dim_obs)/n_samples\n",
    "    for i in range(10):\n",
    "        mgl = MissingTimeGraphicalLasso(alpha=alpha, kernel=kernel, psi='laplacian', \n",
    "                                        tol=1e-3, rtol=1e-3, verbose=0, max_iter=500)\n",
    "        tgl = TimeGraphicalLasso(alpha=alpha,  beta=beta, psi='laplacian', \n",
    "                                 tol=1e-3, rtol=1e-3,verbose=0, max_iter=500)\n",
    "\n",
    "        n_dim_obs = int(n_dim_obs)\n",
    "        dataset = datasets.make_dataset(n_samples=n_samples, n_dim_lat=0, update_ell='fixed',\n",
    "                        update_theta='l2', normalize_starting_matrices=True, n_dim_obs=n_dim_obs, T=10)\n",
    "        tt.append(dataset.thetas)\n",
    "        \n",
    "        to_remove = int(T*n_samples*n_dim_obs*0.05)\n",
    "        X = dataset.X\n",
    "        X[np.random.choice(np.arange(0, T*n_samples), to_remove),\n",
    "          np.random.choice(np.arange(0, n_dim_obs), to_remove)] = np.nan\n",
    "\n",
    "        \n",
    "        tic = time.time()\n",
    "        results_static = mgl.fit(X, dataset.y).precision_\n",
    "        tac = time.time() - tic    \n",
    "        res.append(results_static)\n",
    "        elapsed_time.append(tac)\n",
    "        \n",
    "        y = dataset.y\n",
    "        #inputing\n",
    "        emp_cov = np.array([empirical_covariance(\n",
    "                            SimpleImputer(strategy='mean').fit_transform(X[y == cl]),\n",
    "                            assume_centered=True)\n",
    "                            for cl in np.unique(y) ])\n",
    "        tic = time.time()\n",
    "        precision_inputing = TVGL.TVGL(dataset.X, 100, alpha, beta, 3, emp_cov,\n",
    "                                  verbose = False, eps = 3e-3, epsAbs = 1e-3, epsRel = 1e-3)\n",
    "        #time_graphical_lasso(emp_cov, alpha=alpha,  beta=beta, psi='laplacian', \n",
    "         #                        tol=1e-3, rtol=1e-3,verbose=0, max_iter=50)\n",
    "        tac = time.time() - tic  \n",
    "        res1.append(precision_inputing[0])\n",
    "        elapsed_time1.append(tac)\n",
    "        \n",
    "        # Complete cases \n",
    "        Xs = [X[y==cl] for cl in np.unique(y)]\n",
    "        Xs = [x[~np.isnan(x).any(axis=1)] for x in Xs]\n",
    "        emp_cov = np.array([empirical_covariance(x,\n",
    "                            assume_centered=True)\n",
    "                            for x in Xs ])\n",
    "     #   print(Xs)\n",
    "        try:\n",
    "            tic = time.time()\n",
    "            precision_inputing = TVGL.TVGL(dataset.X, 100, alpha, beta, 3, emp_cov,\n",
    "                                  verbose = False, eps = 3e-3, epsAbs = 1e-3, epsRel = 1e-3)\n",
    "            tac = time.time() - tic  \n",
    "            res3.append(precision_inputing[0])\n",
    "            elapsed_time3.append(tac)\n",
    "        except ValueError:\n",
    "            continue\n",
    "        \n",
    "        try:\n",
    "            tic = time.time()\n",
    "            thetas_res = []\n",
    "            for t in range(T):\n",
    "                aaa = X[t*n_samples:(t+1)*n_samples,:]\n",
    "                result = glasso.mglasso(robjects.r.matrix(aaa, nrow=aaa.shape[0], ncol=aaa.shape[1]), \n",
    "                       nrho=2, rho=robjects.FloatVector(list([alpha])), thr_em = 1e-3, thr_bcd = 1e-3)\n",
    "                result = list(result)\n",
    "                A = np.array(list(result[16]))\n",
    "                A = A.reshape((n_dim_obs,n_dim_obs,1))\n",
    "                thetas_res.append(A[:,:,-1])\n",
    "                                #robjects.r.matrix(np.zeros((n_dim_obs, n_dim_lat)), nrow=n_dim_obs, ncol=n_dim_lat))\n",
    "            tac = time.time() - tic\n",
    "            res2.append(thetas_res)\n",
    "            elapsed_time2.append(tac)\n",
    "        except rpy2.rinterface.RRuntimeError:\n",
    "            continue\n",
    "    thetas.append(tt)\n",
    "    results[('mtgl', n_dim_obs)] = dict(res=res, elapsed_time=elapsed_time)\n",
    "    results[('tgl(inputing)', n_dim_obs)] = dict(res=res1, elapsed_time=elapsed_time1)\n",
    "    results[('mglasso', n_dim_obs)] = dict(res=res2, elapsed_time=elapsed_time2)\n",
    "    results[('tgl(complete)', n_dim_obs)] = dict(res=res3, elapsed_time=elapsed_time3)"
   ]
  },
  {
   "cell_type": "code",
   "execution_count": null,
   "metadata": {},
   "outputs": [],
   "source": [
    "import pandas as pd\n",
    "from regain.utils import flatten\n",
    "\n",
    "rcParams.update({'font.size': 10})\n",
    "df = pd.DataFrame(\n",
    "    flatten([[(k[0], T*int(k[1] * k[1]-1) // 2 * 1, x) \n",
    "              for x in results[k]['elapsed_time']] for k in results]),\n",
    "    columns=['method', 'n_unknowns', 'time'])\n",
    "\n",
    "#df.replace(to_replace=495, value=r'10^')\n",
    "import seaborn as sns\n",
    "from matplotlib import pyplot as plt\n",
    "f, ax = plt.subplots()\n",
    "plt.yscale('log')\n",
    "#plt.xscale('log')\n",
    "g = sns.pointplot(data=df, hue='method', x='n_unknowns', y='time')\n",
    "plt.savefig(\"../results_tmgl/scalability_partial_data_5_percent_missing.pdf\", dpi=200, bbox_inches='tight',\n",
    "           transparent=True)"
   ]
  },
  {
   "cell_type": "code",
   "execution_count": null,
   "metadata": {},
   "outputs": [],
   "source": [
    "from regain.utils import mean_structure_error\n",
    "\n",
    "\n",
    "mat_results = np.zeros((5, 4))\n",
    "for i, t in enumerate(thetas):\n",
    "    _,d, _ = t[0].shape\n",
    "   # print(results[('mgl', d)])\n",
    "    a1 = float(mean_structure_error(t, [np.array(r) for r in results[('mtgl', d)]['res']], multiple=True)['mcc'].split('+/-')[0])\n",
    "    mat_results[i, 0] = a1\n",
    "    a2 = float(mean_structure_error(t, [np.array(r) for r in results[('tgl(inputing)', d)]['res']], multiple=True)['mcc'].split('+/-')[0])\n",
    "    mat_results[i, 1] = a2\n",
    "    a2 = float(mean_structure_error(t, [np.array(r) for r in results[('tgl(complete)', d)]['res']], multiple=True)['mcc'].split('+/-')[0])\n",
    "    mat_results[i, 2] = a2\n",
    "    \n",
    "    a3 = float(mean_structure_error(t, [np.array(r) for r in results[('mglasso', d)]['res']], multiple=True)['mcc'].split('+/-')[0])\n",
    "    mat_results[i, 3] = a3"
   ]
  },
  {
   "cell_type": "code",
   "execution_count": null,
   "metadata": {},
   "outputs": [],
   "source": [
    "! mkdir ../results_tmgl"
   ]
  },
  {
   "cell_type": "code",
   "execution_count": null,
   "metadata": {},
   "outputs": [],
   "source": [
    "from mpl_toolkits.axes_grid1 import make_axes_locatable\n",
    "\n",
    "\n",
    "fig, ax = plt.subplots(figsize=(5,8))\n",
    "im = ax.imshow(mat_results, vmin=0, vmax=1, cmap='gist_ncar')\n",
    "divider = make_axes_locatable(ax)\n",
    "cax = divider.append_axes(\"right\", size=\"5%\", pad=0.05)\n",
    "plt.colorbar(im, cax=cax)\n",
    "\n",
    "# We want to show all ticks...\n",
    "ax.set_xticks(np.arange(4))\n",
    "ax.set_yticks(np.arange(5))\n",
    "# ... and label them with the respective list entries\n",
    "ax.set_xticklabels(['mtgl', 'tgl(inputing)', 'tgl(complete)', 'mglasso'])\n",
    "ax.set_yticklabels(np.unique(df['n_unknowns']))\n",
    "\n",
    "# Rotate the tick labels and set their alignment.\n",
    "plt.setp(ax.get_xticklabels(), rotation=45, ha=\"right\",\n",
    "         rotation_mode=\"anchor\")\n",
    "\n",
    "# Loop over data dimensions and create text annotations.\n",
    "for i in range(5):\n",
    "    for j in range(4):\n",
    "        text = ax.text(j, i, round(mat_results[i, j],2),\n",
    "                       ha=\"center\", va=\"center\", color=\"k\")\n",
    "\n",
    "#ax.set_title(\"Harvest of local farmers (in tons/year)\")\n",
    "fig.tight_layout()\n",
    "plt.savefig(\"../results_tmgl/MCC_partial_data_5_percent_missing.pdf\", dpi=200, bbox_inches='tight',\n",
    "           transparent=True)\n",
    "plt.show()"
   ]
  },
  {
   "cell_type": "code",
   "execution_count": null,
   "metadata": {},
   "outputs": [],
   "source": [
    "from regain.utils import mean_structure_error\n",
    "\n",
    "\n",
    "mat_results_std = np.zeros((5, 4))\n",
    "for i, t in enumerate(thetas):\n",
    "    _,d, _ = t[0].shape\n",
    "   # print(results[('mgl', d)])\n",
    "    a1 = float(mean_structure_error(t, [np.array(r) for r in results[('mtgl', d)]['res']], multiple=True)['mcc'].split('+/-')[1])\n",
    "    mat_results_std[i, 0] = a1\n",
    "    a2 = float(mean_structure_error(t, [np.array(r) for r in results[('tgl(inputing)', d)]['res']], multiple=True)['mcc'].split('+/-')[1])\n",
    "    mat_results_std[i, 1] = a2\n",
    "    a2 = float(mean_structure_error(t, [np.array(r) for r in results[('tgl(complete)', d)]['res']], multiple=True)['mcc'].split('+/-')[1])\n",
    "    mat_results_std[i, 2] = a2\n",
    "    \n",
    "    a3 = float(mean_structure_error(t, [np.array(r) for r in results[('mglasso', d)]['res']], multiple=True)['mcc'].split('+/-')[1])\n",
    "    mat_results_std[i, 3] = a3"
   ]
  },
  {
   "cell_type": "code",
   "execution_count": null,
   "metadata": {},
   "outputs": [],
   "source": [
    "import matplotlib.pyplot as plt\n",
    "from matplotlib import rcParams\n",
    "rcParams.update({'font.size': 10})\n",
    "fig, ax = plt.subplots(figsize=(5,8))\n",
    "im = ax.imshow(mat_results_std, vmin=0, vmax=0.3, cmap='gist_ncar')\n",
    "divider = make_axes_locatable(ax)\n",
    "cax = divider.append_axes(\"right\", size=\"5%\", pad=0.05)\n",
    "plt.colorbar(im, cax=cax)\n",
    "\n",
    "# We want to show all ticks...\n",
    "ax.set_xticks(np.arange(4))\n",
    "ax.set_yticks(np.arange(5))\n",
    "# ... and label them with the respective list entries\n",
    "ax.set_xticklabels(['mtgl', 'tgl(inputing)', 'tgl(complete)', 'mglasso'])\n",
    "ax.set_yticklabels(np.unique(df['n_unknowns']))\n",
    "\n",
    "# Rotate the tick labels and set their alignment.\n",
    "plt.setp(ax.get_xticklabels(), rotation=45, ha=\"right\",\n",
    "         rotation_mode=\"anchor\")\n",
    "\n",
    "# Loop over data dimensions and create text annotations.\n",
    "for i in range(5):\n",
    "    for j in range(4):\n",
    "        text = ax.text(j, i, round(mat_results_std[i, j],2),\n",
    "                       ha=\"center\", va=\"center\", color=\"k\")\n",
    "\n",
    "#ax.set_title(\"Harvest of local farmers (in tons/year)\")\n",
    "fig.tight_layout()\n",
    "plt.savefig(\"../results_tmgl/MCC_STD_partial_data_5_percent_missing.pdf\", dpi=200, bbox_inches='tight',\n",
    "           transparent=True)\n",
    "plt.show()"
   ]
  },
  {
   "cell_type": "code",
   "execution_count": null,
   "metadata": {},
   "outputs": [],
   "source": [
    "import pickle as pkl \n",
    "\n",
    "with open(\"../results_tmgl/results_5_percent.pkl\", \"wb\") as f:\n",
    "    pkl.dump(results, f)\n",
    "\n",
    "\n",
    "with open(\"../results_tmgl/thetas_5_percent.pkl\", \"wb\") as f:\n",
    "    pkl.dump(thetas,f)"
   ]
  },
  {
   "cell_type": "markdown",
   "metadata": {},
   "source": [
    "# ROC CURVES"
   ]
  },
  {
   "cell_type": "code",
   "execution_count": null,
   "metadata": {},
   "outputs": [],
   "source": [
    "from regain.plotting.results import plot_curve\n",
    "\n",
    "for t in thetas:\n",
    "    _,d, _ = t[0].shape\n",
    "    if d < 90:\n",
    "        _dict = {'mtgl': [np.array(r) for r in results[('mtgl',d )]['res']], \n",
    "                           'tgl(inputing)': [np.array(r) for r in results[('tgl(inputing)',d )]['res']],\n",
    "                           'mglasso': [np.array(r) for r in results[('mglasso',d )]['res']],'tgl(complete)': [np.array(r) for r in results[('tgl(complete)',d )]['res']]}\n",
    "    else:\n",
    "        _dict = {'mtgl': [np.array(r) for r in results[('mtgl',d )]['res']], \n",
    "                           'tgl(inputing)': [np.array(r) for r in results[('tgl(inputing)',d )]['res']]}\n",
    "    plot_curve(t, _dict, multiple=True, filename=\"../results_tmgl/roc_curve_5_percent_\"+str(d)+\"dimensions.pdf\",\n",
    "              fontsize=20)\n",
    "    plot_curve(t, _dict, multiple=True, filename=\"../results_tmgl/roc_curve_5_percent_\"+str(d)+\"dimensions.pdf\",\n",
    "              fontsize=20, mode='pr')"
   ]
  },
  {
   "cell_type": "code",
   "execution_count": null,
   "metadata": {},
   "outputs": [],
   "source": []
  }
 ],
 "metadata": {
  "kernelspec": {
   "display_name": "Python 3",
   "language": "python",
   "name": "python3"
  },
  "language_info": {
   "codemirror_mode": {
    "name": "ipython",
    "version": 3
   },
   "file_extension": ".py",
   "mimetype": "text/x-python",
   "name": "python",
   "nbconvert_exporter": "python",
   "pygments_lexer": "ipython3",
   "version": "3.5.6"
  }
 },
 "nbformat": 4,
 "nbformat_minor": 2
}
