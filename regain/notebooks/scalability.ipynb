{
 "cells": [
  {
   "cell_type": "markdown",
   "metadata": {},
   "source": [
    "# Scalability\n",
    "This notebook show the scalability analysis performed in the paper.\n",
    "We compared our LTGL model with respect to state-of-the art software for graphical inference, such as LVGLASSO and TVGL.\n",
    "\n",
    "<font color='red'><b>Note</b></font>: GL is not included in the comparison, since it is based on coordinate descent and it does not have the eigenvalue decomposition."
   ]
  },
  {
   "cell_type": "code",
   "execution_count": null,
   "metadata": {},
   "outputs": [],
   "source": [
    "from __future__ import print_function\n",
    "\n",
    "%matplotlib inline\n",
    "import matplotlib.pyplot as plt\n",
    "import pandas as pd\n",
    "import numpy as np\n",
    "import time\n",
    "\n",
    "from itertools import product\n",
    "\n",
    "from regain import datasets, utils"
   ]
  },
  {
   "cell_type": "code",
   "execution_count": null,
   "metadata": {},
   "outputs": [],
   "source": [
    "import performance_utils as putils"
   ]
  },
  {
   "cell_type": "code",
   "execution_count": null,
   "metadata": {
    "scrolled": true
   },
   "outputs": [],
   "source": [
    "# prepare data\n",
    "n_times = [20, 50, 100]\n",
    "n_dims = np.sqrt(np.logspace(2, 5, 10)).astype(int)\n",
    "\n",
    "n_samples = 200\n",
    "n_dim_lat = 2\n",
    "\n",
    "np.random.seed(42)\n",
    "with utils.suppress_stdout():\n",
    "    data = {\n",
    "        (dim, T): datasets.make_dataset(\n",
    "            mode='ma', n_samples=n_samples, \n",
    "            n_dim_lat=n_dim_lat, n_dim_obs=dim,\n",
    "            T=T, epsilon=1e-2)\n",
    "        for dim, T in (product(n_dims, n_times))\n",
    "    }"
   ]
  },
  {
   "cell_type": "code",
   "execution_count": null,
   "metadata": {},
   "outputs": [],
   "source": [
    "alpha = 1\n",
    "tau = 1\n",
    "beta = 1\n",
    "eta = 1\n",
    "\n",
    "methods = ['LTGL', 'GL', 'LVGLASSO', 'TVGL']\n",
    "scores = sorted(['iterations', 'time', 'note'])\n",
    "\n",
    "cols = pd.MultiIndex.from_product([scores, n_dims], names=('score', 'dim'))\n",
    "rows = pd.MultiIndex.from_product([methods, n_times], names=('method', 'time'))\n",
    "\n",
    "dff = pd.DataFrame(columns=cols, index=rows)\n",
    "idx = pd.IndexSlice"
   ]
  },
  {
   "cell_type": "code",
   "execution_count": null,
   "metadata": {
    "scrolled": true
   },
   "outputs": [],
   "source": [
    "for i, (k, res) in enumerate(sorted(data.items())):\n",
    "    dim = k[0]\n",
    "    print(\"Start with: dim=%d, T=%d (it %d)\" % (k[0], k[1], i))\n",
    "    data_list = res.data\n",
    "    K = res.thetas\n",
    "    K_obs = res.thetas_observed\n",
    "    ells = res.ells\n",
    "    data_grid = np.array(data_list).transpose(\n",
    "        1, 2, 0)  # to use it later for grid search\n",
    "\n",
    "    print(\"starting LTGL ...\\r\", end='')\n",
    "    res_l = putils.ltgl_results(\n",
    "        res.X, res.y, K, K_obs, ells, alpha=alpha, beta=beta, tau=tau, eta=eta)\n",
    "    dff.loc[idx['LTGL', k[1]], idx[:, k[0]]] = [res_l[x] for x in scores]\n",
    "\n",
    "    print(\"starting GL...\\r\", end='')\n",
    "    res = putils.glasso_results(data_grid, K, K_obs, ells, alpha=alpha)\n",
    "\n",
    "    # Use this for the R-implementation\n",
    "    # res = friedman_results(data_grid, K, K_obs, ells, alpha=alpha)\n",
    "    dff.loc[idx['GL', k[1]], idx[:, k[0]]] = [res[x] for x in scores]\n",
    "\n",
    "    print(\"starting LVGLASSO...\\r\", end='')\n",
    "    res_c = putils.chandresekeran_results(\n",
    "        data_grid, K, K_obs, ells, tau=tau, alpha=alpha)\n",
    "    dff.loc[idx['LVGLASSO', k[1]], idx[:, k[0]]] = [res_c[x] for x in scores]"
   ]
  },
  {
   "cell_type": "code",
   "execution_count": null,
   "metadata": {},
   "outputs": [],
   "source": [
    "df.to_pickle(\"scalability_no_hallac.pkl\")"
   ]
  },
  {
   "cell_type": "code",
   "execution_count": null,
   "metadata": {},
   "outputs": [],
   "source": [
    "logger = init_logger('scalability')"
   ]
  },
  {
   "cell_type": "markdown",
   "metadata": {},
   "source": [
    "Since this is computationally expensive, we divide the results in two cells ..."
   ]
  },
  {
   "cell_type": "code",
   "execution_count": null,
   "metadata": {},
   "outputs": [],
   "source": [
    "for i, (k, res) in enumerate(sorted(data.items())):\n",
    "    dim = k[0]\n",
    "    logging.info(\"Start TVGL with: dim=%d, T=%d (it %d)\" % (k[0], k[1], i))\n",
    "    data_list = res.data\n",
    "    K = res.thetas\n",
    "    K_obs = res.thetas_observed\n",
    "    ells = res.ells\n",
    "    data_grid = np.array(data_list).transpose(\n",
    "        1, 2, 0)  # to use it later for grid search\n",
    "\n",
    "    try:\n",
    "        #         print(\"starting TVGL...\\r\", end='')\n",
    "        res = hallac_results(data_grid, K, K_obs, ells, beta=beta, alpha=alpha)\n",
    "        dff.loc[idx['TVGL', k[1]], idx[:, k[0]]] = [res[x] for x in scores]\n",
    "        dff.to_pickle(\"scalability_hallac.pkl\")\n",
    "    except:\n",
    "        pass"
   ]
  },
  {
   "cell_type": "markdown",
   "metadata": {},
   "source": [
    "## Plotting"
   ]
  },
  {
   "cell_type": "code",
   "execution_count": null,
   "metadata": {},
   "outputs": [],
   "source": [
    "# load pickle\n",
    "with open(\"scalability.pkl\", 'rb') as f:\n",
    "    df = pkl.load(f)\n",
    "\n",
    "df.sortlevel(inplace=True)\n",
    "\n",
    "idx = pd.IndexSlice\n",
    "scores = df.columns.levels[0]\n",
    "n_dims = df.columns.levels[1]\n",
    "methods = df.index.levels[0]\n",
    "n_times = df.index.levels[1]"
   ]
  },
  {
   "cell_type": "markdown",
   "metadata": {},
   "source": [
    "Let's plot a horizontal figure."
   ]
  },
  {
   "cell_type": "code",
   "execution_count": null,
   "metadata": {},
   "outputs": [],
   "source": [
    "style = ['-', '--', ':']\n",
    "\n",
    "f, ax = plt.subplots(1, len(n_times), sharey=True, figsize=(12, 2), dpi=600)\n",
    "\n",
    "ax[0].set_ylabel(\"seconds\")\n",
    "# ax[0].set_ylim([.1,None])\n",
    "for i, t in enumerate(n_times):\n",
    "    for j, m in enumerate([m for m in methods if m != 'GL']):\n",
    "        if m == 'GL':\n",
    "            continue\n",
    "        ax[i].plot(\n",
    "            n_dims * (n_dims + 1) * t,\n",
    "            df.loc[idx[m, t], idx['time', :]].values, ls=style[j], label=m)\n",
    "\n",
    "    ax[i].set_yscale('log')\n",
    "    ax[i].set_xscale('log')\n",
    "    ax[i].set_xlabel(r\"number of unknowns at T = %d\" % t)\n",
    "    ax[i].grid('on')\n",
    "#     ax[i].set_title(\"n_times: %d\" % t)\n",
    "# plt.xticks(range(4), ours.n_dim_obs)\n",
    "ax[0].set_yticks([1, 10, 1e2, 1e3, 1e4])\n",
    "lgd = ax[1].legend(\n",
    "    bbox_to_anchor=(0., 1.02, 1., .102), loc=3, ncol=3, mode=\"expand\",\n",
    "    borderaxespad=0.)\n",
    "f.tight_layout()"
   ]
  },
  {
   "cell_type": "code",
   "execution_count": null,
   "metadata": {},
   "outputs": [],
   "source": [
    "f.savefig(\n",
    "    \"scalability.pdf\", dpi=600, transparent=True, bbox_extra_artists=(lgd, ),\n",
    "    bbox_inches='tight')"
   ]
  }
 ],
 "metadata": {
  "kernelspec": {
   "display_name": "Python 3",
   "language": "python",
   "name": "python3"
  },
  "language_info": {
   "codemirror_mode": {
    "name": "ipython",
    "version": 3
   },
   "file_extension": ".py",
   "mimetype": "text/x-python",
   "name": "python",
   "nbconvert_exporter": "python",
   "pygments_lexer": "ipython3",
   "version": "3.7.3"
  }
 },
 "nbformat": 4,
 "nbformat_minor": 4
}
