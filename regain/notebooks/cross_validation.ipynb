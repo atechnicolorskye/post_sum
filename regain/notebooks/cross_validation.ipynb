{
 "cells": [
  {
   "cell_type": "markdown",
   "metadata": {},
   "source": [
    "# Cross-validation\n",
    "This notebook shows an example on how it is possible to cross-validate parameters fot LTGL.\n",
    "\n",
    "<font color='red'><b>Note</b></font>: at the moment we rely on `scikit-optimize` for Bayesian optimisation. This allows to search on a possibly large set of parameters without incurring in the curse of dimensionality (as much as possible).\n",
    "If you don't have this package installed, you can choose a grid of parameters and use `GridSearchCV` from `scikit-learn`."
   ]
  },
  {
   "cell_type": "code",
   "execution_count": null,
   "metadata": {},
   "outputs": [],
   "source": [
    "import numpy as np\n",
    "import pandas as pd\n",
    "import time\n",
    "\n",
    "from sklearn.model_selection import GridSearchCV, StratifiedShuffleSplit\n",
    "\n",
    "from regain import datasets, utils\n",
    "from regain.covariance import LatentTimeGraphicalLasso\n",
    "\n",
    "np.random.seed(20)"
   ]
  },
  {
   "cell_type": "markdown",
   "metadata": {},
   "source": [
    "## 1. Prepare data set\n",
    "Let's prepare a synthetic dataset which we can work on."
   ]
  },
  {
   "cell_type": "code",
   "execution_count": null,
   "metadata": {},
   "outputs": [],
   "source": [
    "np.random.seed(0)\n",
    "\n",
    "# setting 1\n",
    "alpha = 0.45\n",
    "tau = 3\n",
    "beta = 50\n",
    "eta = 10\n",
    "\n",
    "n_samples = 100\n",
    "n_dim_lat = 20\n",
    "T = 10\n",
    "n_dim_obs = 100\n",
    "data = datasets.make_dataset(\n",
    "    n_samples=n_samples, n_dim_lat=n_dim_lat, n_dim_obs=n_dim_obs, T=T,\n",
    "    epsilon=1e-1, proportional=True, degree=2, keep_sparsity=True,\n",
    "    update_ell='l2', update_theta='l2', normalize_starting_matrices=True)\n",
    "X, y = data.X, data.y"
   ]
  },
  {
   "cell_type": "markdown",
   "metadata": {},
   "source": [
    "Then, we can setup the model, ie, our `LatentTimeGraphicalLasso`."
   ]
  },
  {
   "cell_type": "code",
   "execution_count": null,
   "metadata": {},
   "outputs": [],
   "source": [
    "mdl = LatentTimeGraphicalLasso(\n",
    "    assume_centered=0, verbose=0, rtol=1e-5, tol=1e-5, max_iter=250,\n",
    "    rho=1. / np.sqrt(X.shape[0]))"
   ]
  },
  {
   "cell_type": "markdown",
   "metadata": {},
   "source": [
    "## 2.1 Cross-validation via GridSearchCV\n",
    "As a simple cross validation, let's use a grid search using `scikit-learn`."
   ]
  },
  {
   "cell_type": "code",
   "execution_count": null,
   "metadata": {},
   "outputs": [],
   "source": [
    "param_grid = dict(tau=[1, 3], alpha=[.45, 1], beta=[20, 50], eta=[5, 10])\n",
    "cv = StratifiedShuffleSplit(10, test_size=0.2)\n",
    "ltgl = GridSearchCV(mdl, param_grid, cv=cv, verbose=2)\n",
    "ltgl.fit(X, y)"
   ]
  },
  {
   "cell_type": "markdown",
   "metadata": {},
   "source": [
    "## 2.2 skopt\n",
    "A more efficient way for cross validation, we can use a Bayesian optimisation procedure using `scikit-optimize`. With this procedure it is not needed to pre-specify a list of hyperparameters to test: the model is going to automatically find those for us."
   ]
  },
  {
   "cell_type": "code",
   "execution_count": null,
   "metadata": {
    "scrolled": true
   },
   "outputs": [],
   "source": [
    "from skopt import BayesSearchCV\n",
    "from skopt.space import Real, Categorical, Integer\n",
    "\n",
    "domain = {\n",
    "    'alpha': Real(1e-1, 1e0, prior='log-uniform'),\n",
    "    'tau': Real(1e-1, 1e+1, prior='log-uniform'),\n",
    "    'beta': Integer(1, 60),\n",
    "    'eta': Integer(1, 10)\n",
    "}\n",
    "\n",
    "cv = StratifiedShuffleSplit(10, test_size=0.2)\n",
    "ltgl = BayesSearchCV(mdl, domain, n_iter=32, cv=cv)\n",
    "ltgl.fit(X, y)"
   ]
  },
  {
   "cell_type": "markdown",
   "metadata": {},
   "source": [
    "## 3. Score\n",
    "Finally, check out how similar are the estimated precision matrix from the ground truth."
   ]
  },
  {
   "cell_type": "code",
   "execution_count": null,
   "metadata": {},
   "outputs": [],
   "source": [
    "utils.structure_error(data.thetas, ltgl.best_estimator_.precision_)"
   ]
  },
  {
   "cell_type": "code",
   "execution_count": null,
   "metadata": {},
   "outputs": [],
   "source": [
    "utils.error_norm_time(data.thetas, ltgl.best_estimator_.precision_)"
   ]
  },
  {
   "cell_type": "code",
   "execution_count": null,
   "metadata": {},
   "outputs": [],
   "source": [
    "utils.error_rank(data.ells, ltgl.best_estimator_.latent_)"
   ]
  }
 ],
 "metadata": {
  "kernelspec": {
   "display_name": "Python 3",
   "language": "python",
   "name": "python3"
  },
  "language_info": {
   "codemirror_mode": {
    "name": "ipython",
    "version": 3
   },
   "file_extension": ".py",
   "mimetype": "text/x-python",
   "name": "python",
   "nbconvert_exporter": "python",
   "pygments_lexer": "ipython3",
   "version": "3.7.3"
  }
 },
 "nbformat": 4,
 "nbformat_minor": 4
}
