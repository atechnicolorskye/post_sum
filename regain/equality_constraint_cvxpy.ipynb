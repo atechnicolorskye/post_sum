{
 "cells": [
  {
   "cell_type": "code",
   "execution_count": 1,
   "metadata": {},
   "outputs": [],
   "source": [
    "%load_ext autoreload\n",
    "%autoreload 2\n",
    "\n",
    "import numpy as np\n",
    "import pandas as pd\n",
    "from numpy.random import multivariate_normal as mvnorm\n",
    "from numpy.linalg import norm\n",
    "\n",
    "import matplotlib.pyplot as plt\n",
    "from matplotlib.ticker import (MultipleLocator, FormatStrFormatter,\n",
    "                               AutoMinorLocator)\n",
    "plt.rcParams['figure.facecolor'] = 'white'\n",
    "plt.rcParams['axes.facecolor'] = 'white'\n",
    "%matplotlib inline\n",
    "\n",
    "import pdb, time\n",
    "\n",
    "seed = 0\n",
    "np.random.seed(seed)"
   ]
  },
  {
   "cell_type": "markdown",
   "metadata": {},
   "source": [
    "### Import and generate data"
   ]
  },
  {
   "cell_type": "code",
   "execution_count": 2,
   "metadata": {},
   "outputs": [],
   "source": [
    "# Import data\n",
    "data = pd.read_pickle(\"~/Downloads/integrated_draws_20_5_4.pkl\")\n",
    "n_draws, n_time, dim_X, dim_fac = data['beta'].shape\n",
    "beta = data['beta']\n",
    "X_sd = data['x_sd']\n",
    "\n",
    "# Generate X\n",
    "m_fac = np.zeros((dim_fac))\n",
    "s_fac = np.diag(np.ones((dim_fac)))\n",
    "fac = np.expand_dims(mvnorm(m_fac, s_fac, (n_draws, n_time)), -1)\n",
    "\n",
    "X = np.matmul(beta, fac).squeeze()\n",
    "\n",
    "m_eps = np.zeros((dim_X))\n",
    "for i in range(n_draws):\n",
    "    eps = mvnorm(m_eps, np.diag(X_sd[i] ** 2), n_time)\n",
    "    X[i] += X[i] + eps\n",
    "    \n",
    "X = X.transpose((2, 0, 1))\n",
    "X_cov = np.einsum('ijkl,jmkl->imkl', np.expand_dims(X, 1), np.expand_dims(X, 0))"
   ]
  },
  {
   "cell_type": "code",
   "execution_count": 3,
   "metadata": {},
   "outputs": [],
   "source": [
    "n_dimensions, _, n_samples, time_steps = X_cov.shape\n",
    "emp_inv = []\n",
    "for i in range(time_steps):\n",
    "    emp_inv.append(np.linalg.inv(np.mean(X_cov[:, :, :, i], 2)))\n",
    "emp_inv = np.array(emp_inv)"
   ]
  },
  {
   "cell_type": "markdown",
   "metadata": {},
   "source": [
    "### Train"
   ]
  },
  {
   "cell_type": "code",
   "execution_count": 4,
   "metadata": {},
   "outputs": [],
   "source": [
    "weights=[None]\n",
    "max_iter = 1000\n",
    "# weights=['lin', 200]"
   ]
  },
  {
   "cell_type": "code",
   "execution_count": null,
   "metadata": {
    "scrolled": true
   },
   "outputs": [
    {
     "name": "stdout",
     "output_type": "stream",
     "text": [
      "0\n",
      "-8.740402676266871 -9.29709750442249\n",
      "1370.1205366781583\n"
     ]
    },
    {
     "name": "stderr",
     "output_type": "stream",
     "text": [
      "/Users/sky/.pyenv/versions/3.7.4/lib/python3.7/site-packages/scipy/optimize/optimize.py:2215: RuntimeWarning: invalid value encountered in double_scalars\n",
      "  tmp2 = (x - v) * (fx - fw)\n"
     ]
    },
    {
     "name": "stdout",
     "output_type": "stream",
     "text": [
      "100\n",
      "0.00010757007681405639 9.45559424366138e-06\n",
      "383.96640393240926\n",
      "200\n",
      "3.4806850074176054e-05 4.416844010606269e-06\n",
      "230.51082703438246\n",
      "300\n",
      "2.2454267458726918e-05 4.436252718491573e-06\n",
      "153.911088786451\n"
     ]
    },
    {
     "name": "stderr",
     "output_type": "stream",
     "text": [
      "/Users/sky/.pyenv/versions/3.7.4/lib/python3.7/site-packages/scipy/optimize/optimize.py:2216: RuntimeWarning: invalid value encountered in double_scalars\n",
      "  p = (x - v) * tmp2 - (x - w) * tmp1\n"
     ]
    },
    {
     "name": "stdout",
     "output_type": "stream",
     "text": [
      "400\n",
      "3.115452354052195e-05 4.5360819130735305e-06\n",
      "107.18159673452564\n"
     ]
    }
   ],
   "source": [
    "from regain.covariance import TaylorEqualTimeGraphicalLasso, TimeGraphicalLasso\n",
    "tic = time.perf_counter()\n",
    "tgl_tpe = TaylorEqualTimeGraphicalLasso(max_iter=max_iter, loss='LL', c_level=0.2, theta=0.5, rho=1e2, mult=1.1, weights=weights, m=50, eps=2, psi=\"laplacian\")\n",
    "emp_inv_score_tpe, baseline_score_tpe, fit_score_tpe, pre_tpe = tgl_tpe.fit_cov(X_cov).eval_cov_pre() \n",
    "toc = time.perf_counter()\n",
    "print('Running Time :{}'.format(toc - tic))\n",
    "# min_pre_tp = np.amin(np.abs(pre_tp[pre_tp != 0]))"
   ]
  },
  {
   "cell_type": "code",
   "execution_count": 6,
   "metadata": {
    "scrolled": true
   },
   "outputs": [
    {
     "name": "stderr",
     "output_type": "stream",
     "text": [
      "/Users/sky/.pyenv/versions/3.7.4/lib/python3.7/site-packages/scipy/optimize/optimize.py:2217: RuntimeWarning: invalid value encountered in double_scalars\n",
      "  tmp2 = 2.0 * (tmp2 - tmp1)\n"
     ]
    },
    {
     "name": "stdout",
     "output_type": "stream",
     "text": [
      "0\n",
      "0.0008981529615823547 -0.0898707108169539\n",
      "1331.5303752778445\n",
      "100\n",
      "0.002483127485135128 0.0015662774930127199\n",
      "290.13081648636904\n",
      "200\n",
      "0.0024917278120284436 0.0015638132130622751\n",
      "152.69608626474027\n",
      "300\n",
      "0.002449238836888412 0.0015276376378407974\n",
      "89.1922402522061\n",
      "400\n",
      "0.0023337067962359015 0.0015054029794794844\n",
      "53.372975048156256\n",
      "500\n",
      "0.0023079832803034606 0.0014430994914562945\n",
      "31.65309166873123\n",
      "600\n",
      "0.00235533668811172 0.0013555973148077526\n",
      "19.540942289177423\n",
      "700\n",
      "0.0024195967714106814 0.0012133375797518653\n",
      "14.03060397124048\n",
      "800\n",
      "0.0025059668805482715 0.0011614518482623737\n",
      "11.959599514356807\n",
      "900\n",
      "0.00254873946263956 0.0011359241563151557\n",
      "11.208924240692063\n",
      "999 10.882403523484282\n",
      "1.9757961957783884e-05 0.033182855080966356\n",
      "0.48865779392140996 0.02837699692964874\n",
      "Running Time :209.97065739799996\n"
     ]
    },
    {
     "name": "stderr",
     "output_type": "stream",
     "text": [
      "/Users/sky/Downloads/Booth/post_sum/regain/regain/covariance/gradient_equal_time_graphical_lasso.py:466: UserWarning: Objective did not converge.\n",
      "  warnings.warn(\"Objective did not converge.\")\n"
     ]
    }
   ],
   "source": [
    "from regain.covariance import GradientEqualTimeGraphicalLasso, TimeGraphicalLasso\n",
    "tic = time.perf_counter()\n",
    "tgl_g = GradientEqualTimeGraphicalLasso(max_iter=max_iter, loss='LL', c_level=0.2, theta=0.5, rho=1e2, mult=1.1, weights=weights, m=50, eps=2, psi=\"laplacian\")\n",
    "emp_inv_score_g, baseline_score_g, fit_score_g, pre_g = tgl_g.fit_cov(X_cov).eval_cov_pre() \n",
    "toc = time.perf_counter()\n",
    "print('Running Time :{}'.format(toc - tic))\n",
    "# min_pre_tp = np.amin(np.abs(pre_tp[pre_tp != 0]))"
   ]
  },
  {
   "cell_type": "raw",
   "metadata": {},
   "source": [
    "%debug"
   ]
  },
  {
   "cell_type": "raw",
   "metadata": {},
   "source": [
    "from regain.covariance import InequalityTimeGraphicalLasso, TimeGraphicalLasso\n",
    "tic = time.perf_counter()\n",
    "tgl = InequalityTimeGraphicalLasso(max_iter=1000, loss='LL', c_level=0.25, c_prox='grad', rho=1e2, theta=0.5, psi=\"laplacian\")\n",
    "emp_inv_score_grad, baseline_score_grad, fit_score_grad, pre_grad = tgl.fit_cov(X_cov).eval_cov_pre() \n",
    "toc = time.perf_counter()\n",
    "print('Running Time :{}'.format(toc - tic))"
   ]
  },
  {
   "cell_type": "raw",
   "metadata": {},
   "source": [
    "from regain.covariance import CVXInequalityTimeGraphicalLasso, TimeGraphicalLasso\n",
    "tic = time.perf_counter()\n",
    "tgl = CVXInequalityTimeGraphicalLasso(max_iter=2*1e4, loss='LL', c_level=0.2, theta=0.5, psi=\"laplacian\", tol=1e-6)\n",
    "emp_inv_score, baseline_score_gradore, fit_score, pre_cvx = tgl.fit_cov(X_cov).eval_cov_pre() \n",
    "toc = time.perf_counter()\n",
    "print('Running Time :{}'.format(toc - tic))"
   ]
  },
  {
   "cell_type": "raw",
   "metadata": {},
   "source": [
    "np.save(\"mosek_sol.npy\", pre_cvx)"
   ]
  },
  {
   "cell_type": "code",
   "execution_count": 7,
   "metadata": {},
   "outputs": [],
   "source": [
    "from regain.covariance import CVXInequalityTimeGraphicalLasso, TimeGraphicalLasso\n",
    "pre_cvx = np.load(\"mosek_sol.npy\")"
   ]
  },
  {
   "cell_type": "code",
   "execution_count": 8,
   "metadata": {},
   "outputs": [
    {
     "name": "stdout",
     "output_type": "stream",
     "text": [
      "31.241989467266876\n",
      "31.275525853691807\n",
      "31.275533315173337\n",
      "15.566443513846648\n",
      "15.566720200830725\n",
      "15.566720200830725\n",
      "10.882163904019333\n",
      "10.882403523484282\n",
      "10.882403523484282\n"
     ]
    }
   ],
   "source": [
    "from regain.norm import l1_od_norm\n",
    "from regain.validation import check_norm_prox\n",
    "psi, prox_psi, psi_node_penalty = check_norm_prox(tgl_g.psi)\n",
    "\n",
    "def penalty_objective(Z_0, Z_1, Z_2, psi, theta):\n",
    "    \"\"\"Penalty-only objective function for time-varying graphical LASSO.\"\"\"\n",
    "    return theta * sum(map(l1_od_norm, Z_0)) + (1 - theta) * sum(map(psi, Z_2 - Z_1))\n",
    "\n",
    "pre = {}\n",
    "fit_score = {}\n",
    "for i in [1e-4, 1e-6, 0]:\n",
    "    pre[i] = np.array([k * (np.abs(k) >= i) for k in pre_cvx])\n",
    "    tgl_g.precision_ = pre[i]\n",
    "    emp_inv_score, baseline_score, fit_score[i], _ = tgl_g.eval_cov_pre() \n",
    "    print(penalty_objective(pre[i], pre[i][:-1], pre[i][1:], psi, tgl_g.theta))\n",
    "\n",
    "pre_tpe_thres = {}\n",
    "fit_score_tpe_thres = {}\n",
    "for i in [1e-4, 1e-6, 0]:\n",
    "    pre_tpe_thres[i] = np.array([k * (np.abs(k) >= i) for k in pre_tpe])\n",
    "    tgl_tpe.precision_ = pre_tpe_thres[i]\n",
    "    emp_inv_score, baseline_score, fit_score_tpe_thres[i], _ = tgl_tpe.eval_cov_pre() \n",
    "    print(penalty_objective(pre_tpe_thres[i], pre_tpe_thres[i][:-1], pre_tpe_thres[i][1:], psi, tgl_tpe.theta))\n",
    "\n",
    "pre_g_thres = {}\n",
    "fit_score_g_thres = {}\n",
    "for i in [1e-4, 1e-6, 0]:\n",
    "    pre_g_thres[i] = np.array([k * (np.abs(k) >= i) for k in pre_g])\n",
    "    tgl_g.precision_ = pre_g_thres[i]\n",
    "    emp_inv_score, baseline_score, fit_score_g_thres[i], _ = tgl_g.eval_cov_pre() \n",
    "    print(penalty_objective(pre_g_thres[i], pre_g_thres[i][:-1], pre_g_thres[i][1:], psi, tgl_g.theta))"
   ]
  },
  {
   "cell_type": "code",
   "execution_count": 9,
   "metadata": {},
   "outputs": [
    {
     "name": "stdout",
     "output_type": "stream",
     "text": [
      "94 130.87757600445832\n",
      "130.87753836700597\n",
      "130.87757600445832\n",
      "130.87757600445832\n"
     ]
    }
   ],
   "source": [
    "tgl = TimeGraphicalLasso(alpha=1., beta=1., mode='admm', rho=1, tol=1e-4,\n",
    "            rtol=1e-4, psi='laplacian', max_iter=3000, verbose=False, assume_centered=False, \n",
    "            return_history=False, update_rho_options=None, compute_objective=True, \n",
    "            stop_at=None, stop_when=1e-4, suppress_warn_list=False, init='empirical')\n",
    "fit_score_, pre_ = tgl.fit_cov(X_cov).eval_cov_pre()   \n",
    "\n",
    "pre_thres = {}\n",
    "fit_score_thres = {}\n",
    "for i in [1e-4, 1e-6, 0]:\n",
    "    pre_thres[i] = np.array([k * (np.abs(k) >= i) for k in pre_])\n",
    "    tgl_g.precision_ = pre_thres[i]\n",
    "    emp_inv_score, baseline_score, fit_score_thres[i], _ = tgl_g.eval_cov_pre() \n",
    "    print(penalty_objective(pre_thres[i], pre_thres[i][:-1], pre_thres[i][1:], psi, tgl_g.theta))"
   ]
  },
  {
   "cell_type": "code",
   "execution_count": null,
   "metadata": {
    "scrolled": true
   },
   "outputs": [],
   "source": [
    "fig, ax = plt.subplots(figsize=(20, 10))\n",
    "fig.patch.set_facecolor('white')\n",
    "colors = \"rgb\"\n",
    "color_index = 0\n",
    "plt.rcParams[\"axes.prop_cycle\"] = plt.cycler(\"color\", plt.cm.tab20.colors)\n",
    "\n",
    "ax.plot(range(len(tgl_tpe.obj)), tgl_tpe.obj, alpha=0.5, color='b',\n",
    "        label=r'Lin')\n",
    "ax.plot(range(len(tgl_g.obj)), tgl_g.obj, alpha=0.5, color='g',\n",
    "        label=r'Grad')\n",
    "\n",
    "fig.legend(fontsize=20, loc='upper right', bbox_to_anchor=(0.49, 0.44, 0.5, 0.5))\n",
    "ax.set_ylabel('Objective', fontsize=25)\n",
    "ax.tick_params(axis='both', which='major', labelsize=20)\n",
    "ax.set_xlabel('Iteration', fontsize=25)\n",
    "ax.set_title(r'Objective for Constrained ADMM', fontsize=30)\n",
    "plt.tight_layout()\n",
    "plt.savefig('syn_'+ str(weights[0]).lower() + '_' + str(max_iter) + '_obj.pdf')"
   ]
  },
  {
   "cell_type": "code",
   "execution_count": null,
   "metadata": {},
   "outputs": [],
   "source": []
  },
  {
   "cell_type": "code",
   "execution_count": 10,
   "metadata": {},
   "outputs": [
    {
     "name": "stdout",
     "output_type": "stream",
     "text": [
      "0.05102680118485462\n",
      "0.14500769424379695\n",
      "0.06638150516554747\n",
      "38000\n",
      "14480\n",
      "1190\n",
      "1070\n"
     ]
    }
   ],
   "source": [
    "# drop diagonals\n",
    "t, p, _ = pre_cvx.shape\n",
    "idx = np.where(~np.eye(p, dtype=bool))\n",
    "pre_cvx_no_diag = np.array([pre_cvx[i][idx] for i in np.arange(t)])\n",
    "pre_tpe_no_diag = np.array([pre_tpe[i][idx] for i in np.arange(t)])\n",
    "pre_g_no_diag = np.array([pre_g[i][idx] for i in np.arange(t)])\n",
    "\n",
    "\n",
    "log_abs_pre_cvx_no_diag = np.log10(np.abs(pre_cvx_no_diag[pre_cvx_no_diag != 0]))\n",
    "log_abs_pre_tpe_no_diag = np.log10(np.abs(pre_tpe_no_diag[pre_tpe_no_diag != 0]))\n",
    "log_abs_pre_g_no_diag = np.log10(np.abs(pre_g_no_diag[pre_g_no_diag != 0]))\n",
    "\n",
    "print(np.max(np.abs(pre_cvx_no_diag)))\n",
    "print(np.max(np.abs(pre_tpe_no_diag)))\n",
    "print(np.max(np.abs(pre_g_no_diag)))\n",
    "\n",
    "print(np.sum(np.abs(pre_cvx_no_diag) >= 0))\n",
    "\n",
    "print(np.sum(log_abs_pre_cvx_no_diag >= -4))\n",
    "print(np.sum(log_abs_pre_tpe_no_diag >= -4))\n",
    "print(np.sum(log_abs_pre_g_no_diag >= -4))"
   ]
  },
  {
   "cell_type": "code",
   "execution_count": 11,
   "metadata": {
    "scrolled": true
   },
   "outputs": [
    {
     "data": {
      "image/png": "[encoded data removed]",
      "text/plain": [
       "<Figure size 1440x720 with 1 Axes>"
      ]
     },
     "metadata": {},
     "output_type": "display_data"
    }
   ],
   "source": [
    "fig, ax = plt.subplots(figsize=(20, 10))\n",
    "fig.patch.set_facecolor('white')\n",
    "colors = \"rgm\"\n",
    "color_index = 0\n",
    "\n",
    "# ensure that the bins are the same for proper alignment\n",
    "# bins = np.histogram(\n",
    "#             np.hstack(\n",
    "#                 (pre_cvx_no_diag.flatten(), pre_tpe_no_diag.flatten(), pre_g_no_diag.flatten())\n",
    "#             ), bins=500)[1]\n",
    "bins = np.histogram(\n",
    "            np.hstack(\n",
    "                (log_abs_pre_cvx_no_diag.flatten(), log_abs_pre_tpe_no_diag.flatten(), log_abs_pre_g_no_diag.flatten())\n",
    "            ), bins=100)[1]\n",
    "\n",
    "# ax.hist(pre_cvx_no_diag.flatten(), bins=bins, color='r', alpha=0.5, \n",
    "#             label=r'Constrained MOSEK')\n",
    "# ax.hist(pre_tpe_no_diag.flatten(), bins=bins, color='b', alpha=0.5, \n",
    "#             label=r'Lin')\n",
    "# ax.hist(pre_g_no_diag.flatten(), bins=bins, color='g', alpha=0.5, \n",
    "#             label=r'Grad')\n",
    "ax.hist(log_abs_pre_cvx_no_diag.flatten(), bins=bins, color='r', alpha=0.5, \n",
    "            label=r'Constrained MOSEK')\n",
    "ax.hist(log_abs_pre_tpe_no_diag.flatten(), bins=bins, color='b', alpha=0.5, \n",
    "            label=r'Lin')\n",
    "ax.hist(log_abs_pre_g_no_diag.flatten(), bins=bins, color='g', alpha=0.5, \n",
    "            label=r'Grad')\n",
    "\n",
    "fig.legend(fontsize=20, loc='upper left', bbox_to_anchor=(0.05, 0.455, 0.5, 0.5))\n",
    "# plt.xlim([-0.01, 0.01])\n",
    "ax.set_ylabel('Number', fontsize=15)\n",
    "ax.tick_params(axis='both', which='major', labelsize=15)\n",
    "ax.set_xlabel('Log Values', fontsize=15)\n",
    "# ax.set_xticks([-1e-2, -1e-3, 0, 1e-3, 1e-2])\n",
    "ax.set_title(r'Histogram of Precisions Log Values for Constrained TGL MOSEK/ADMM', fontsize=20)\n",
    "plt.tight_layout()\n",
    "plt.savefig('syn_' + str(weights[0]).lower() + '_' + str(max_iter) + '_hist.pdf')"
   ]
  },
  {
   "cell_type": "code",
   "execution_count": null,
   "metadata": {},
   "outputs": [],
   "source": [
    "tgl_pre = {}\n",
    "\n",
    "for i in np.arange(0, 1., 0.05):\n",
    "    tgl = TimeGraphicalLasso(alpha=1., beta=i, mode='admm', rho=1, tol=1e-4,\n",
    "                rtol=1e-4, psi='laplacian', max_iter=1000, verbose=False, assume_centered=False, \n",
    "                return_history=False, update_rho_options=None, compute_objective=True, \n",
    "                stop_at=None, stop_when=1e-4, suppress_warn_list=False, init='empirical')\n",
    "    fit_score_, pre_ = tgl.fit_cov(X_cov).eval_cov_pre()   \n",
    "    tgl_pre[1, i] = pre_\n",
    "    tgl = TimeGraphicalLasso(alpha=i, beta=1, mode='admm', rho=1, tol=1e-4,\n",
    "                rtol=1e-4, psi='laplacian', max_iter=1000, verbose=False, assume_centered=False, \n",
    "                return_history=False, update_rho_options=None, compute_objective=True, \n",
    "                stop_at=None, stop_when=1e-4, suppress_warn_list=False, init='empirical')\n",
    "    fit_score_, pre_ = tgl.fit_cov(X_cov).eval_cov_pre()   \n",
    "    tgl_pre[i, 1] = pre_"
   ]
  },
  {
   "cell_type": "code",
   "execution_count": null,
   "metadata": {},
   "outputs": [],
   "source": [
    "tgl = TimeGraphicalLasso(alpha=1, beta=1, mode='admm', rho=1, tol=1e-4,\n",
    "                rtol=1e-4, psi='laplacian', max_iter=1000, verbose=False, assume_centered=False, \n",
    "                return_history=False, update_rho_options=None, compute_objective=True, \n",
    "                stop_at=None, stop_when=1e-4, suppress_warn_list=False, init='empirical')\n",
    "fit_score_, pre_ = tgl.fit_cov(X_cov).eval_cov_pre()   \n",
    "tgl_pre[1, 1] = pre_\n",
    "tgl_pre.keys()"
   ]
  },
  {
   "cell_type": "raw",
   "metadata": {},
   "source": [
    "fig, ax = plt.subplots(figsize=(20, 10))\n",
    "fig.patch.set_facecolor('white')\n",
    "colors = \"rgm\"\n",
    "color_index = 0\n",
    "\n",
    "for i in [1e-4]:\n",
    "# for i in [1e-2, 1e-3, 1e-4]:\n",
    "    diff = (pre[i] -  pre_cvx).flatten()\n",
    "    ax.hist(diff, bins=100, color='r', alpha=0.5, \n",
    "            label=r'Constraint TGL SCS, Thres = {}'.format(i))\n",
    "# for i in [2.]:    \n",
    "#     diff = (res[i][3] -  pre_cvx).flatten()\n",
    "#     ax.hist(diff, bins=50, color='g', alpha=0.2,\n",
    "#             label=r'Constraint TGL ADMM CVX, Div = {}'.format(i))\n",
    "diff = (pre_grad -  pre_cvx).flatten()\n",
    "ax.hist(diff, bins=100, color='m', alpha=0.2,\n",
    "        label=r'Constraint TGL ADMM Gradient')\n",
    "diff = (pre_tp -  pre_cvx).flatten()\n",
    "ax.hist(diff, bins=100, color='g', alpha=0.2,\n",
    "        label=r'Constraint TGL ADMM Linear')\n",
    "# diff = (pre_ -  pre_cvx).flatten()\n",
    "# ax.hist(diff, bins=100, color='y', alpha=0.5, \n",
    "#         label=r'Vanilla TGL')\n",
    "\n",
    "fig.legend(fontsize=15)\n",
    "ax.set_ylabel('Counts', fontsize=15)\n",
    "ax.set_xlabel('Values', fontsize=15)\n",
    "major_loc = MultipleLocator(base=0.05)\n",
    "ax.xaxis.set_major_locator(major_loc)\n",
    "ax.set_xlim((-0.2, 0.2))\n",
    "ax.tick_params(axis='both', which='major', labelsize=15)\n",
    "ax.set_title(r'Difference in Precisions for TGL and Constraint TGL SCS/ADMM', fontsize=20)\n",
    "plt.tight_layout()\n",
    "plt.savefig('pre_diff_hist_{}_{}_taylor.pdf'.format(dim_X, dim_fac))"
   ]
  },
  {
   "cell_type": "raw",
   "metadata": {},
   "source": [
    "fig, ax = plt.subplots(figsize=(20, 10))\n",
    "fig.patch.set_facecolor('white')\n",
    "colors = \"rgm\"\n",
    "color_index = 0\n",
    "\n",
    "for i in [1e-4]:\n",
    "# for i in [1e-2, 1e-3, 1e-4]:\n",
    "    diff = (pre[i] -  tgl.emp_inv).flatten()\n",
    "    ax.hist(diff, bins=100, color='r', alpha=0.5, \n",
    "            label=r'Constraint TGL SCS, Thres = {}'.format(i))\n",
    "# for i in [2.]:    \n",
    "#     diff = (res[i][3] -  pre_cvx).flatten()\n",
    "#     ax.hist(diff, bins=50, color='g', alpha=0.2,\n",
    "#             label=r'Constraint TGL ADMM CVX, Div = {}'.format(i))\n",
    "diff = (pre_grad -  tgl.emp_inv).flatten()\n",
    "ax.hist(diff, bins=100, color='m', alpha=0.5,\n",
    "        label=r'Constraint TGL ADMM Gradient')\n",
    "diff = (pre_tp -  tgl.emp_inv).flatten()\n",
    "ax.hist(diff, bins=100, color='g', alpha=0.5,\n",
    "        label=r'Constraint TGL ADMM Linear')\n",
    "# diff = (pre_ -  tgl.emp_inv).flatten()\n",
    "# ax.hist(diff, bins=100, color='y', alpha=0.5, \n",
    "#         label=r'Vanilla TGL')\n",
    "\n",
    "fig.legend(fontsize=15)\n",
    "ax.set_ylabel('Counts', fontsize=15)\n",
    "ax.set_xlabel('Values', fontsize=15)\n",
    "# major_loc = MultipleLocator(base=0.05)\n",
    "# ax.xaxis.set_major_locator(major_loc)\n",
    "ax.set_xlim((-1.5, 1.5))\n",
    "ax.tick_params(axis='both', which='major', labelsize=15)\n",
    "ax.set_title(r'Difference from Empirical Precisions for TGL and Constraint TGL SCS/ADMM', fontsize=20)\n",
    "plt.tight_layout()\n",
    "plt.savefig('pre_emp_diff_hist_{}_{}_taylor.pdf'.format(dim_X, dim_fac))"
   ]
  },
  {
   "cell_type": "code",
   "execution_count": null,
   "metadata": {},
   "outputs": [],
   "source": [
    "fig, ax = plt.subplots(figsize=(20, 10))\n",
    "fig.patch.set_facecolor('white')\n",
    "colors = \"rgb\"\n",
    "color_index = 0\n",
    "plt.rcParams[\"axes.prop_cycle\"] = plt.cycler(\"color\", plt.cm.tab20.colors)\n",
    "\n",
    "# ax.plot(range(X_cov.shape[-1]), emp_inv_score_g, color='k', label=r'Empirical Inverse')\n",
    "ax.plot(range(X_cov.shape[-1]), baseline_score_g, color='k', label=r'Constraint')\n",
    "for i in [1e-4]:\n",
    "    mean_diff = np.mean(np.array(fit_score[i]) - baseline_score)\n",
    "    max_diff = np.max(np.array(fit_score[i]) - baseline_score_g)\n",
    "    ax.plot(range(X_cov.shape[-1]), fit_score[i], color='r', alpha=0.5, \n",
    "#     ax.plot(range(X_cov.shape[-1]), fit_score[i], color=colors[color_index], alpha=0.5, \n",
    "            label=r'MOSEK, Mean Diff = {:.3f}, Max Diff = {:.3f}'.format(mean_diff, max_diff))\n",
    "    color_index += 1\n",
    "# mean_diff = np.mean(np.array(fit_score_tp_thres[1e-4]) - baseline_score_g)\n",
    "# # ax.plot(range(X_cov.shape[-1]), fit_score_tp, alpha=0.5, color='g',\n",
    "# ax.plot(range(X_cov.shape[-1]), fit_score_tp_thres[1e-4], alpha=0.5, color='m',\n",
    "#         label=r'Constrained ADMM Full, Mean Diff = {:.3f}'.format(mean_diff))\n",
    "mean_diff = np.mean(np.array(fit_score_tpe_thres[1e-4]) - baseline_score_g)\n",
    "max_diff = np.max(np.array(fit_score_tpe_thres[1e-4]) - baseline_score_g)\n",
    "# ax.plot(range(X_cov.shape[-1]), fit_score_tp, alpha=0.5, color='g',\n",
    "ax.plot(range(X_cov.shape[-1]), fit_score_tpe_thres[1e-4], alpha=0.5, color='b',\n",
    "        label=r'Lin, Mean Diff = {:.3f}, Max Diff = {:.3f}'.format(mean_diff, max_diff))\n",
    "mean_diff = np.mean(np.array(fit_score_g_thres[1e-4]) - baseline_score_g)\n",
    "max_diff = np.max(np.array(fit_score_g_thres[1e-4]) - baseline_score_g)\n",
    "# ax.plot(range(X_cov.shape[-1]), fit_score_tp, alpha=0.5, color='g',\n",
    "ax.plot(range(X_cov.shape[-1]), fit_score_g_thres[1e-4], alpha=0.5, color='g',\n",
    "        label=r'Grad, Mean Diff = {:.3f}, Max Diff = {:.3f}'.format(mean_diff, max_diff))\n",
    "\n",
    "# mean_diff = np.mean(np.array(fit_score_) - res[1][1])\n",
    "# ax.plot(range(X_cov.shape[-1]), fit_score_, color='y', label=r'Vanilla TGL, Mean Diff = {:.3f}'.format(mean_diff))\n",
    "\n",
    "fig.legend(fontsize=20, loc='lower right', bbox_to_anchor=(0.495, 0.08, 0.5, 0.5))\n",
    "ax.set_ylabel('Negative Log-Likelihood', fontsize=25)\n",
    "ax.tick_params(axis='both', which='major', labelsize=20)\n",
    "ax.set_xlabel('Time t', fontsize=25)\n",
    "ax.set_title(r'NLL for Constraint and Constrained MOSEK/ADMM', fontsize=30)\n",
    "plt.tight_layout()\n",
    "plt.savefig('syn_'+ str(weights[0]).lower() + '_diff_like_converge_long.pdf')"
   ]
  },
  {
   "cell_type": "code",
   "execution_count": null,
   "metadata": {},
   "outputs": [],
   "source": [
    "fig, ax = plt.subplots(figsize=(20, 10))\n",
    "fig.patch.set_facecolor('white')\n",
    "colors = \"rgb\"\n",
    "color_index = 0\n",
    "\n",
    "# ax.plot(range(X_cov.shape[-1]), [sum(sum(abs(emp_inv[k]) > 0)) for k in range(X_cov.shape[-1])], \n",
    "#         color='k', label=r'Empirical Inverse')\n",
    "# for i in [min_pre_tp]:\n",
    "for i in [1e-4]:\n",
    "    supp = [sum(sum(abs(pre[i][t]) > 0)) for t in range(X_cov.shape[-1])]\n",
    "    mean_supp = np.mean(supp)\n",
    "    ax.plot(range(X_cov.shape[-1]), supp, color='r', alpha=0.5, \n",
    "#     ax.plot(range(X_cov.shape[-1]), supp, color=colors[color_index], alpha=0.5, \n",
    "            label=r'MOSEK, Mean Supp = {}'.format(mean_supp))\n",
    "    color_index += 1\n",
    "# supp = [sum(sum(abs(pre_grad[t]) > 0)) for t in range(X_cov.shape[-1])]\n",
    "# ax.plot(range(X_cov.shape[-1]), supp, color='m', alpha=0.5,\n",
    "#         label=r'Constraint TGL ADMM Gradient, Mean Supp = {:.3f}'.format(np.mean(supp)))\n",
    "# supp = [sum(sum(abs(pre_tp_thres[1e-4][t]) > 0)) for t in range(X_cov.shape[-1])]\n",
    "# # supp = [sum(sum(abs(pre_tp[t]) > 0)) for t in range(X_cov.shape[-1])]\n",
    "# ax.plot(range(X_cov.shape[-1]), supp, color='m', alpha=0.5,\n",
    "#         label=r'Constrained ADMM Full, Mean Supp = {:.3f}'.format(np.mean(supp)))\n",
    "supp = [sum(sum(abs(pre_tpe_thres[1e-4][t]) > 0)) for t in range(X_cov.shape[-1])]\n",
    "# supp = [sum(sum(abs(pre_tp[t]) > 0)) for t in range(X_cov.shape[-1])]\n",
    "ax.plot(range(X_cov.shape[-1]), supp, color='b', alpha=0.5,\n",
    "        label=r'Lin, Mean Supp = {:.3f}'.format(np.mean(supp)))\n",
    "supp = [sum(sum(abs(pre_g_thres[1e-4][t]) > 0)) for t in range(X_cov.shape[-1])]\n",
    "# supp = [sum(sum(abs(pre_tp[t]) > 0)) for t in range(X_cov.shape[-1])]\n",
    "ax.plot(range(X_cov.shape[-1]), supp, color='g', alpha=0.5,\n",
    "        label=r'Grad, Mean Supp = {:.3f}'.format(np.mean(supp)))\n",
    "supp = [sum(sum(abs(pre_thres[1e-4][t]) > 0)) for t in range(X_cov.shape[-1])]\n",
    "ax.plot(range(X_cov.shape[-1]), [sum(sum(abs(pre_thres[1e-4][k]) > 0)) for k in range(X_cov.shape[-1])], \n",
    "        color='y', label=r'TGL, , Mean Supp = {:.3f}'.format(np.mean(supp)))\n",
    "\n",
    "fig.legend(fontsize=20, loc='upper right', bbox_to_anchor=(0.495, 0.45, 0.5, 0.5))\n",
    "ax.set_ylabel('Support', fontsize=25)\n",
    "ax.tick_params(axis='both', which='major', labelsize=20)\n",
    "ax.set_xlabel('Time t', fontsize=25)\n",
    "ax.set_title(r'Support for Constrained MOSEK/ADMM and TGL', fontsize=30)\n",
    "plt.tight_layout()\n",
    "plt.savefig('syn_'+ str(weights[0]).lower() + '_diff_supp_converge_long.pdf')"
   ]
  },
  {
   "cell_type": "code",
   "execution_count": null,
   "metadata": {},
   "outputs": [],
   "source": [
    "fig, ax = plt.subplots(figsize=(20, 10))\n",
    "fig.patch.set_facecolor('white')\n",
    "colors = \"rgb\"\n",
    "color_index = 0\n",
    "\n",
    "# diff_emp = [norm(emp_inv[t] - emp_inv[t-1], 'fro') for t in range(1, X_cov.shape[-1])]\n",
    "# ax.plot(range(1, X_cov.shape[-1]), np.array(diff_emp), alpha=1, color='k', label=r'Empirical Inverse')\n",
    "# for i in [min_pre_tp]:\n",
    "for i in [1e-4]:\n",
    "    diff = [norm(pre[i][t] - pre[i][t-1], 'fro') for t in range(1, X_cov.shape[-1])]\n",
    "    mean_diff = np.mean(diff)\n",
    "    ax.plot(range(1, X_cov.shape[-1]), diff, color='r', alpha=0.5, \n",
    "#     ax.plot(range(1, X_cov.shape[-1]), diff, color=colors[color_index], alpha=0.5, \n",
    "            label=r'MOSEK, Mean Diff = {:.3f}'.format(mean_diff))\n",
    "    color_index += 1\n",
    "# diff_grad = [norm(pre_grad[t] - pre_grad[t-1], 'fro') for t in range(1, X_cov.shape[-1])]\n",
    "# ax.plot(range(1, X_cov.shape[-1]), diff_grad, color='m', alpha=0.5,\n",
    "#         label=r'Constraint TGL ADMM Gradient, Mean Diff = {:.3f}'.format(np.mean(diff_grad)))\n",
    "# diff_grad = [norm(pre_tp_thres[1e-4][t] - pre_tp_thres[1e-4][t-1], 'fro') for t in range(1, X_cov.shape[-1])]\n",
    "# # diff_grad = [norm(pre_tp[t] - pre_tp[t-1], 'fro') for t in range(1, X_cov.shape[-1])]\n",
    "# ax.plot(range(1, X_cov.shape[-1]), diff_grad, color='m', alpha=0.5,\n",
    "#         label=r'Constraint ADMM Full, Mean Diff = {:.3f}'.format(np.mean(diff_grad)))\n",
    "diff_grad = [norm(pre_tpe_thres[1e-4][t] - pre_tpe_thres[1e-4][t-1], 'fro') for t in range(1, X_cov.shape[-1])]\n",
    "# diff_grad = [norm(pre_tp[t] - pre_tp[t-1], 'fro') for t in range(1, X_cov.shape[-1])]\n",
    "ax.plot(range(1, X_cov.shape[-1]), diff_grad, color='b', alpha=0.5,\n",
    "        label=r'Lin, Mean Diff = {:.3f}'.format(np.mean(diff_grad)))\n",
    "diff_grad = [norm(pre_g_thres[1e-4][t] - pre_g_thres[1e-4][t-1], 'fro') for t in range(1, X_cov.shape[-1])]\n",
    "# diff_grad = [norm(pre_tp[t] - pre_tp[t-1], 'fro') for t in range(1, X_cov.shape[-1])]\n",
    "ax.plot(range(1, X_cov.shape[-1]), diff_grad, color='g', alpha=0.5,\n",
    "        label=r'Grad, Mean Diff = {:.3f}'.format(np.mean(diff_grad)))\n",
    "diff_fit_ = [norm(pre_thres[1e-4][t] - pre_thres[1e-4][t-1], 'fro') for t in range(1, X_cov.shape[-1])]\n",
    "ax.plot(range(1, X_cov.shape[-1]), np.array(diff_fit_), color='y', alpha=1, \n",
    "        label=r'TGL, Mean Diff = {:.3f}'.format(np.mean(diff_fit_)))\n",
    "\n",
    "fig.legend(fontsize=20, loc='upper right', bbox_to_anchor=(0.495, 0.45, 0.5, 0.5))\n",
    "ax.set_ylabel('Difference in Frobenius Norm', fontsize=25)\n",
    "ax.tick_params(axis='both', which='major', labelsize=20)\n",
    "ax.set_xlabel('Time t', fontsize=25)\n",
    "ax.set_title(r'Difference in Frobenius Norm for Constrained MOSEK/ADMM and TGL', fontsize=30)\n",
    "plt.tight_layout()\n",
    "plt.savefig('syn_'+ str(weights[0]).lower() + '_diff_fro_converge_long.pdf')\n",
    "# plt.savefig('diff_fro_{}_{}_scs.pdf'.format(dim_X, dim_fac))"
   ]
  },
  {
   "cell_type": "code",
   "execution_count": null,
   "metadata": {},
   "outputs": [],
   "source": []
  },
  {
   "cell_type": "code",
   "execution_count": null,
   "metadata": {},
   "outputs": [],
   "source": []
  }
 ],
 "metadata": {
  "kernelspec": {
   "display_name": "Python 3 (ipykernel)",
   "language": "python",
   "name": "python3"
  },
  "language_info": {
   "codemirror_mode": {
    "name": "ipython",
    "version": 3
   },
   "file_extension": ".py",
   "mimetype": "text/x-python",
   "name": "python",
   "nbconvert_exporter": "python",
   "pygments_lexer": "ipython3",
   "version": "3.7.4"
  }
 },
 "nbformat": 4,
 "nbformat_minor": 4
}
