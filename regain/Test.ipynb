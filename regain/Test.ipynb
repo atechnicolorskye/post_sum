{
 "cells": [
  {
   "cell_type": "code",
   "execution_count": 100,
   "metadata": {},
   "outputs": [],
   "source": [
    "import numpy as np\n",
    "from scipy.optimize import minimize"
   ]
  },
  {
   "cell_type": "code",
   "execution_count": 193,
   "metadata": {},
   "outputs": [
    {
     "name": "stdout",
     "output_type": "stream",
     "text": [
      "2.693172348169138\n"
     ]
    }
   ],
   "source": [
    "x = np.array([[1, 0.1], [0.1, 2]])\n",
    "y_star = np.linalg.inv(x)\n",
    "y_sparse= np.diag(np.diag(y_star))\n",
    "score_sparse = np.trace(y_sparse @ x ) - np.log(np.linalg.det(y_sparse))\n",
    "print(score_sparse)"
   ]
  },
  {
   "cell_type": "code",
   "execution_count": 194,
   "metadata": {},
   "outputs": [
    {
     "data": {
      "text/plain": [
       "array([[1.00502513, 0.        ],\n",
       "       [0.        , 0.50251256]])"
      ]
     },
     "execution_count": 194,
     "metadata": {},
     "output_type": "execute_result"
    }
   ],
   "source": [
    "y_sparse"
   ]
  },
  {
   "cell_type": "code",
   "execution_count": 202,
   "metadata": {},
   "outputs": [],
   "source": [
    "def _f(b):\n",
    "    return (score_sparse - x[0][0] * y_sparse[0][0] - x[1][1] * y_sparse[1][1] - 2 * x[0][1] * b[0] + np.log(np.linalg.det(y_sparse) - b[0] ** 2)) ** 2"
   ]
  },
  {
   "cell_type": "code",
   "execution_count": 213,
   "metadata": {},
   "outputs": [
    {
     "name": "stderr",
     "output_type": "stream",
     "text": [
      "/Users/sikai/.pyenv/versions/3.7.6/lib/python3.7/site-packages/ipykernel_launcher.py:2: RuntimeWarning: invalid value encountered in log\n",
      "  \n"
     ]
    }
   ],
   "source": [
    "b = minimize(_f, [0.5], method=\"Powell\")"
   ]
  },
  {
   "cell_type": "code",
   "execution_count": 214,
   "metadata": {},
   "outputs": [
    {
     "data": {
      "text/plain": [
       "   direc: array([[1.]])\n",
       "     fun: nan\n",
       " message: 'NaN result encountered.'\n",
       "    nfev: 26\n",
       "     nit: 2\n",
       "  status: 3\n",
       " success: False\n",
       "       x: array([5.67585792])"
      ]
     },
     "execution_count": 214,
     "metadata": {},
     "output_type": "execute_result"
    }
   ],
   "source": [
    "b"
   ]
  },
  {
   "cell_type": "code",
   "execution_count": 215,
   "metadata": {},
   "outputs": [],
   "source": [
    "y_dense = y_star\n",
    "y_dense[0][1] = y_dense[1][0] = b.x[0]"
   ]
  },
  {
   "cell_type": "code",
   "execution_count": 211,
   "metadata": {},
   "outputs": [
    {
     "data": {
      "text/plain": [
       "array([[ 1.00502513e+00, -4.44089210e-16],\n",
       "       [-4.44089210e-16,  5.02512563e-01]])"
      ]
     },
     "execution_count": 211,
     "metadata": {},
     "output_type": "execute_result"
    }
   ],
   "source": [
    "y_dense"
   ]
  },
  {
   "cell_type": "code",
   "execution_count": 212,
   "metadata": {},
   "outputs": [
    {
     "name": "stdout",
     "output_type": "stream",
     "text": [
      "2.693172348169138\n"
     ]
    }
   ],
   "source": [
    "score_dense = np.trace(y_dense @ x ) - np.log(np.linalg.det(y_dense))\n",
    "print(score_dense)"
   ]
  },
  {
   "cell_type": "code",
   "execution_count": 190,
   "metadata": {},
   "outputs": [
    {
     "data": {
      "text/plain": [
       "array([[ 2.08333333, -0.4166875 ],\n",
       "       [-0.4166875 ,  2.08333333]])"
      ]
     },
     "execution_count": 190,
     "metadata": {},
     "output_type": "execute_result"
    }
   ],
   "source": [
    "y_dense"
   ]
  },
  {
   "cell_type": "code",
   "execution_count": null,
   "metadata": {},
   "outputs": [],
   "source": []
  }
 ],
 "metadata": {
  "kernelspec": {
   "display_name": "Python 3",
   "language": "python",
   "name": "python3"
  },
  "language_info": {
   "codemirror_mode": {
    "name": "ipython",
    "version": 3
   },
   "file_extension": ".py",
   "mimetype": "text/x-python",
   "name": "python",
   "nbconvert_exporter": "python",
   "pygments_lexer": "ipython3",
   "version": "3.7.6"
  }
 },
 "nbformat": 4,
 "nbformat_minor": 4
}
