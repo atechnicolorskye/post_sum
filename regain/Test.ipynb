{
 "cells": [
  {
   "cell_type": "code",
   "execution_count": 1,
   "metadata": {},
   "outputs": [],
   "source": [
    "%load_ext autoreload\n",
    "%autoreload 2\n",
    "\n",
    "import numpy as np\n",
    "from numpy.random import multivariate_normal as mvnorm\n",
    "from numpy.linalg import norm\n",
    "import pandas as pd\n",
    "from scipy.optimize import minimize\n",
    "from scipy.stats import invwishart, matrix_normal, multivariate_normal\n",
    "\n",
    "# import matplotlib.pyplot as plt\n",
    "# from matplotlib.ticker import (MultipleLocator, FormatStrFormatter,\n",
    "#                                AutoMinorLocator)\n",
    "# plt.rcParams['figure.facecolor'] = 'white'\n",
    "# plt.rcParams['axes.facecolor'] = 'white'\n",
    "# %matplotlib inline\n",
    "\n",
    "import pdb, time\n",
    "\n",
    "seed = 0\n",
    "np.random.seed(seed)"
   ]
  },
  {
   "cell_type": "code",
   "execution_count": 2,
   "metadata": {},
   "outputs": [],
   "source": [
    "# Fama French 5 regression to 30 industry portfolio\n",
    "params = pd.read_pickle(\"/Users/sikai/Dropbox/Research/post_sum/code/dlm_code/ff5_30_standard_parameters.pkl\")\n",
    "n_draws = 4000\n",
    "\n",
    "C = np.array(params['C'])\n",
    "m = np.array(params['m'])\n",
    "nu = np.array(params['nu'])\n",
    "S = np.array(params['S'])\n",
    "X = np.array(params['X'])\n",
    "p = m.shape[2]\n",
    "\n",
    "err_mean = np.zeros(p)\n",
    "\n",
    "Y = []\n",
    "\n",
    "for t in range(nu.shape[0]):\n",
    "    W_t = invwishart.rvs(p + nu[t] - 1, nu[t] * S[t], n_draws)\n",
    "    beta_t = np.array([matrix_normal.rvs(m[t].T, W_t[i], C[t]) for i in range(n_draws)])\n",
    "    err_t = np.array([multivariate_normal.rvs(err_mean, W_t[i]) for i in range(n_draws)])\n",
    "    Y_t = np.einsum('ijk, k -> ij', beta_t, X[t]) + err_t\n",
    "    Y.append(Y_t)\n",
    "\n",
    "Y = np.stack(Y)\n",
    "\n",
    "import pickle\n",
    "with open(\"/Users/sikai/Downloads/ff5_30_standard_4000_draws.pkl\", 'wb') as pickle_file:\n",
    "    pickle.dump(Y, pickle_file)"
   ]
  },
  {
   "cell_type": "code",
   "execution_count": null,
   "metadata": {},
   "outputs": [],
   "source": [
    "def score(x, y):\n",
    "    return np.trace(x @ y) - np.log(np.linalg.det(x))"
   ]
  },
  {
   "cell_type": "code",
   "execution_count": null,
   "metadata": {},
   "outputs": [],
   "source": [
    "x = np.array([[1, 0.1], [0.1, 2]])\n",
    "y_star = np.linalg.inv(x)\n",
    "y_sparse= np.diag(np.diag(y_star))\n",
    "print(y_sparse)\n",
    "print(score(y_sparse, x))\n",
    "\n",
    "def _f(b):\n",
    "    return (score_sparse - x[0][0] * y_sparse[0][0] - x[1][1] * y_sparse[1][1] - 2 * x[0][1] * b[0] + np.log(np.linalg.det(y_sparse) - b[0] ** 2)) ** 2\n",
    "\n",
    "b = minimize(_f, [0.5], method=\"Powell\")\n",
    "y_dense = y_star\n",
    "y_dense[0][1] = y_dense[1][0] = b.x[0]\n",
    "print(y_dense)\n",
    "print(score(y_dense, x))"
   ]
  },
  {
   "cell_type": "code",
   "execution_count": null,
   "metadata": {},
   "outputs": [],
   "source": [
    "x = np.array([[1, 0.5], [0.5, 1]])\n",
    "y_old = np.linalg.inv(x)\n",
    "y = y_old + 1e-2\n",
    "print(score(y_old, x))\n",
    "print(score(y, x) + np.trace((x - np.linalg.inv(y)) @ (y_old - y)))"
   ]
  },
  {
   "cell_type": "code",
   "execution_count": null,
   "metadata": {},
   "outputs": [],
   "source": [
    "A = np.eye(3)\n",
    "v = np.array([1.5, 1, 0.5]).reshape(3, 1)\n",
    "nabla = v @ v.transpose()"
   ]
  },
  {
   "cell_type": "code",
   "execution_count": null,
   "metadata": {},
   "outputs": [],
   "source": [
    "(\n",
    "    np.linalg.inv(nabla.reshape(-1, 1) @ nabla.reshape(1, -1) \n",
    "               + np.eye(nabla.flatten().shape[0])\n",
    "    ) @ A.flatten()\n",
    ").reshape(3, 3)"
   ]
  },
  {
   "cell_type": "code",
   "execution_count": null,
   "metadata": {},
   "outputs": [],
   "source": [
    "A - (np.sum(nabla * A) / (1 + np.sum(nabla * nabla))) * nabla"
   ]
  },
  {
   "cell_type": "code",
   "execution_count": null,
   "metadata": {},
   "outputs": [],
   "source": []
  }
 ],
 "metadata": {
  "kernelspec": {
   "display_name": "Python 3",
   "language": "python",
   "name": "python3"
  },
  "language_info": {
   "codemirror_mode": {
    "name": "ipython",
    "version": 3
   },
   "file_extension": ".py",
   "mimetype": "text/x-python",
   "name": "python",
   "nbconvert_exporter": "python",
   "pygments_lexer": "ipython3",
   "version": "3.7.6"
  }
 },
 "nbformat": 4,
 "nbformat_minor": 4
}
