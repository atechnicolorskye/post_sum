{
 "cells": [
  {
   "cell_type": "code",
   "execution_count": 2,
   "metadata": {},
   "outputs": [],
   "source": [
    "import numpy as np\n",
    "from scipy.optimize import minimize"
   ]
  },
  {
   "cell_type": "code",
   "execution_count": 5,
   "metadata": {},
   "outputs": [],
   "source": [
    "def score(x, y):\n",
    "    return np.trace(x @ y) - np.log(np.linalg.det(x))"
   ]
  },
  {
   "cell_type": "code",
   "execution_count": 193,
   "metadata": {},
   "outputs": [
    {
     "name": "stdout",
     "output_type": "stream",
     "text": [
      "2.693172348169138\n"
     ]
    }
   ],
   "source": [
    "x = np.array([[1, 0.1], [0.1, 2]])\n",
    "y_star = np.linalg.inv(x)\n",
    "y_sparse= np.diag(np.diag(y_star))\n",
    "print(y_sparse)\n",
    "print(score(y_sparse, x))\n",
    "\n",
    "def _f(b):\n",
    "    return (score_sparse - x[0][0] * y_sparse[0][0] - x[1][1] * y_sparse[1][1] - 2 * x[0][1] * b[0] + np.log(np.linalg.det(y_sparse) - b[0] ** 2)) ** 2\n",
    "\n",
    "b = minimize(_f, [0.5], method=\"Powell\")\n",
    "y_dense = y_star\n",
    "y_dense[0][1] = y_dense[1][0] = b.x[0]\n",
    "print(y_dense)\n",
    "print(score(y_dense, x))"
   ]
  },
  {
   "cell_type": "code",
   "execution_count": 7,
   "metadata": {},
   "outputs": [
    {
     "name": "stdout",
     "output_type": "stream",
     "text": [
      "1.7123179275482192\n",
      "1.7118853388989077\n"
     ]
    }
   ],
   "source": [
    "x = np.array([[1, 0.5], [0.5, 1]])\n",
    "y_old = np.linalg.inv(x)\n",
    "y = y_old + 1e-2\n",
    "print(score(y_old, x))\n",
    "print(score(y, x) + np.trace((x - np.linalg.inv(y)) @ (y_old - y)))"
   ]
  }
 ],
 "metadata": {
  "kernelspec": {
   "display_name": "Python 3",
   "language": "python",
   "name": "python3"
  },
  "language_info": {
   "codemirror_mode": {
    "name": "ipython",
    "version": 3
   },
   "file_extension": ".py",
   "mimetype": "text/x-python",
   "name": "python",
   "nbconvert_exporter": "python",
   "pygments_lexer": "ipython3",
   "version": "3.7.6"
  }
 },
 "nbformat": 4,
 "nbformat_minor": 4
}
