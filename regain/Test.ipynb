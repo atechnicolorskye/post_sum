{
 "cells": [
  {
   "cell_type": "code",
   "execution_count": 1,
   "metadata": {},
   "outputs": [],
   "source": [
    "import numpy as np\n",
    "from scipy.optimize import minimize"
   ]
  },
  {
   "cell_type": "code",
   "execution_count": null,
   "metadata": {},
   "outputs": [],
   "source": [
    "def score(x, y):\n",
    "    return np.trace(x @ y) - np.log(np.linalg.det(x))"
   ]
  },
  {
   "cell_type": "code",
   "execution_count": null,
   "metadata": {},
   "outputs": [],
   "source": [
    "x = np.array([[1, 0.1], [0.1, 2]])\n",
    "y_star = np.linalg.inv(x)\n",
    "y_sparse= np.diag(np.diag(y_star))\n",
    "print(y_sparse)\n",
    "print(score(y_sparse, x))\n",
    "\n",
    "def _f(b):\n",
    "    return (score_sparse - x[0][0] * y_sparse[0][0] - x[1][1] * y_sparse[1][1] - 2 * x[0][1] * b[0] + np.log(np.linalg.det(y_sparse) - b[0] ** 2)) ** 2\n",
    "\n",
    "b = minimize(_f, [0.5], method=\"Powell\")\n",
    "y_dense = y_star\n",
    "y_dense[0][1] = y_dense[1][0] = b.x[0]\n",
    "print(y_dense)\n",
    "print(score(y_dense, x))"
   ]
  },
  {
   "cell_type": "code",
   "execution_count": null,
   "metadata": {},
   "outputs": [],
   "source": [
    "x = np.array([[1, 0.5], [0.5, 1]])\n",
    "y_old = np.linalg.inv(x)\n",
    "y = y_old + 1e-2\n",
    "print(score(y_old, x))\n",
    "print(score(y, x) + np.trace((x - np.linalg.inv(y)) @ (y_old - y)))"
   ]
  },
  {
   "cell_type": "code",
   "execution_count": 8,
   "metadata": {},
   "outputs": [],
   "source": [
    "A = np.eye(3)\n",
    "v = np.array([1.5, 1, 0.5]).reshape(3, 1)\n",
    "nabla = v @ v.transpose()"
   ]
  },
  {
   "cell_type": "code",
   "execution_count": 21,
   "metadata": {},
   "outputs": [
    {
     "data": {
      "text/plain": [
       "array([[ 0.40566038, -0.39622642, -0.19811321],\n",
       "       [-0.39622642,  0.73584906, -0.13207547],\n",
       "       [-0.19811321, -0.13207547,  0.93396226]])"
      ]
     },
     "execution_count": 21,
     "metadata": {},
     "output_type": "execute_result"
    }
   ],
   "source": [
    "(\n",
    "    np.linalg.inv(nabla.reshape(-1, 1) @ nabla.reshape(1, -1) \n",
    "               + np.eye(nabla.flatten().shape[0])\n",
    "    ) @ A.flatten()\n",
    ").reshape(3, 3)"
   ]
  },
  {
   "cell_type": "code",
   "execution_count": 25,
   "metadata": {},
   "outputs": [
    {
     "data": {
      "text/plain": [
       "array([[ 0.40566038, -0.39622642, -0.19811321],\n",
       "       [-0.39622642,  0.73584906, -0.13207547],\n",
       "       [-0.19811321, -0.13207547,  0.93396226]])"
      ]
     },
     "execution_count": 25,
     "metadata": {},
     "output_type": "execute_result"
    }
   ],
   "source": [
    "A - (np.sum(nabla * A) / (1 + np.sum(nabla * nabla))) * nabla"
   ]
  },
  {
   "cell_type": "code",
   "execution_count": null,
   "metadata": {},
   "outputs": [],
   "source": []
  }
 ],
 "metadata": {
  "kernelspec": {
   "display_name": "Python 3",
   "language": "python",
   "name": "python3"
  },
  "language_info": {
   "codemirror_mode": {
    "name": "ipython",
    "version": 3
   },
   "file_extension": ".py",
   "mimetype": "text/x-python",
   "name": "python",
   "nbconvert_exporter": "python",
   "pygments_lexer": "ipython3",
   "version": "3.7.6"
  }
 },
 "nbformat": 4,
 "nbformat_minor": 4
}
