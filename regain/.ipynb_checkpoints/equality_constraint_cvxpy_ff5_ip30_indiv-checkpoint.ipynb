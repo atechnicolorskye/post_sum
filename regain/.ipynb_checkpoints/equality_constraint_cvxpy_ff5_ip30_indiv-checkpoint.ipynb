{
 "cells": [
  {
   "cell_type": "code",
   "execution_count": 1,
   "metadata": {},
   "outputs": [],
   "source": [
    "%load_ext autoreload\n",
    "%autoreload 2\n",
    "\n",
    "import numpy as np\n",
    "import pandas as pd\n",
    "from numpy.random import multivariate_normal as mvnorm\n",
    "from numpy.linalg import norm\n",
    "\n",
    "import matplotlib.pyplot as plt\n",
    "import matplotlib.cm as cm\n",
    "from matplotlib.ticker import (MultipleLocator, FormatStrFormatter,\n",
    "                               AutoMinorLocator)\n",
    "plt.rcParams['figure.facecolor'] = 'white'\n",
    "plt.rcParams['axes.facecolor'] = 'white'\n",
    "%matplotlib inline\n",
    "\n",
    "import pdb, time\n",
    "\n",
    "seed = 0\n",
    "np.random.seed(seed)"
   ]
  },
  {
   "cell_type": "markdown",
   "metadata": {},
   "source": [
    "### Import and generate data"
   ]
  },
  {
   "cell_type": "code",
   "execution_count": 2,
   "metadata": {},
   "outputs": [],
   "source": [
    "# Standardised Fama French 5 to industry portfolio 30\n",
    "# Import data\n",
    "data = pd.read_pickle(\"/Users/sky/Downloads/ff5_30_standard_4000_draws.pkl\")"
   ]
  },
  {
   "cell_type": "code",
   "execution_count": null,
   "metadata": {},
   "outputs": [],
   "source": [
    "# Restrict to 100 time points\n",
    "X = data[10:410].transpose(2, 1, 0)\n",
    "# X = data[100:].transpose(2, 1, 0)\n",
    "X_cov = np.einsum('ijkl,jmkl->imkl', np.expand_dims(X, 1), np.expand_dims(X, 0))"
   ]
  },
  {
   "cell_type": "markdown",
   "metadata": {},
   "source": [
    "### Train"
   ]
  },
  {
   "cell_type": "code",
   "execution_count": null,
   "metadata": {},
   "outputs": [],
   "source": [
    "n_dimensions, _, n_samples, time_steps = X_cov.shape\n",
    "emp_inv = []\n",
    "for i in range(time_steps):\n",
    "    emp_inv.append(np.linalg.inv(np.mean(X_cov[:, :, :, i], 2)))\n",
    "emp_inv = np.array(emp_inv)"
   ]
  },
  {
   "cell_type": "raw",
   "metadata": {
    "scrolled": true
   },
   "source": [
    "from regain.covariance import GradientEqualTimeGraphicalLasso, TimeGraphicalLasso\n",
    "tic = time.perf_counter()\n",
    "tgl_g = GradientEqualTimeGraphicalLasso(max_iter=2500, loss='LL', c_level=0.2, theta=0.5, rho=2e2, mult=1.25, weights=200, m=100, eps=2, psi=\"laplacian\")\n",
    "emp_inv_score_g, baseline_score_g, fit_score_g, pre_g = tgl_g.fit_cov(X_cov).eval_cov_pre() \n",
    "toc = time.perf_counter()\n",
    "print('Running Time :{}'.format(toc - tic))\n",
    "# min_pre_tp = np.amin(np.abs(pre_tp[pre_tp != 0]))"
   ]
  },
  {
   "cell_type": "raw",
   "metadata": {
    "scrolled": true
   },
   "source": [
    "from regain.covariance import TaylorTimeGraphicalLasso, TimeGraphicalLasso\n",
    "tic = time.perf_counter()\n",
    "tgl_tp = TaylorTimeGraphicalLasso(max_iter=10000, loss='LL', c_level=0.2, theta=0.5, rho=2e3, mult=1.01, weights=[None], m=50, eps=2, psi=\"laplacian\")\n",
    "emp_inv_score_tp, baseline_score_tp, fit_score_tp, pre_tp = tgl_tp.fit_cov(X_cov).eval_cov_pre() \n",
    "toc = time.perf_counter()\n",
    "print('Running Time :{}'.format(toc - tic))\n",
    "# min_pre_tp = np.amin(np.abs(pre_tp[pre_tp != 0]))"
   ]
  },
  {
   "cell_type": "raw",
   "metadata": {
    "scrolled": true
   },
   "source": [
    "from regain.covariance import TaylorEqualTimeGraphicalLasso, TimeGraphicalLasso\n",
    "# from regain.covariance import GradientEqualTimeGraphicalLasso, TimeGraphicalLasso\n",
    "tic = time.perf_counter()\n",
    "tgl_tpe = TaylorEqualTimeGraphicalLasso(max_iter=10000, loss='LL', c_level=0.2, theta=0.5, rho=1e2, mult=1.1, weights=[None], m=50, eps=2, psi=\"laplacian\")\n",
    "# tgl_tpe = GradientEqualTimeGraphicalLasso(max_iter=10000, loss='LL', c_level=0.2, theta=0.5, rho=1e2, mult=1.1, weights=[None], m=50, eps=2, psi=\"laplacian\")\n",
    "emp_inv_score_tpe, baseline_score_tpe, fit_score_tpe, pre_tpe = tgl_tpe.fit_cov(X_cov).eval_cov_pre() \n",
    "toc = time.perf_counter()\n",
    "print('Running Time :{}'.format(toc - tic))\n",
    "# min_pre_tp = np.amin(np.abs(pre_tp[pre_tp != 0]))"
   ]
  },
  {
   "cell_type": "code",
   "execution_count": null,
   "metadata": {
    "scrolled": true
   },
   "outputs": [],
   "source": [
    "from regain.covariance import GradientEqualTimeGraphicalLasso, TimeGraphicalLasso\n",
    "tic = time.perf_counter()\n",
    "tgl_g = GradientEqualTimeGraphicalLasso(max_iter=10, loss='LL', c_level=0.2, theta=0.5, rho=1e2, mult=1.1, weights=[None], m=50, eps=2, psi=\"laplacian\")\n",
    "emp_inv_score_g, baseline_score_g, fit_score_g, pre_g = tgl_g.fit_cov(X_cov).eval_cov_pre() \n",
    "toc = time.perf_counter()\n",
    "print('Running Time :{}'.format(toc - tic))\n",
    "# min_pre_tp = np.amin(np.abs(pre_tp[pre_tp != 0]))"
   ]
  },
  {
   "cell_type": "raw",
   "metadata": {},
   "source": [
    "from regain.covariance import TaylorEqualTimeGraphicalLasso, TimeGraphicalLasso\n",
    "tic = time.perf_counter()\n",
    "tgl_tp = TaylorEqualTimeGraphicalLasso(max_iter=5000, loss='LL', c_level=0.2, theta=0.5, rho=2e2, mult=1.25, weights=200, m=100, eps=2, psi=\"laplacian\")\n",
    "emp_inv_score_tp, baseline_score_tp, fit_score_tp, pre_tp = tgl_tp.fit_cov(X_cov).eval_cov_pre() \n",
    "toc = time.perf_counter()\n",
    "print('Running Time :{}'.format(toc - tic))\n",
    "# min_pre_tp = np.amin(np.abs(pre_tp[pre_tp != 0]))"
   ]
  },
  {
   "cell_type": "code",
   "execution_count": null,
   "metadata": {},
   "outputs": [],
   "source": [
    "tgl_score = {}\n",
    "tgl_pre = {}\n",
    "for i in np.arange(0, .3, 0.05):\n",
    "    for j in np.arange(0, .3, 0.05):\n",
    "        tgl_temp = np.load(\"/Users/sky/Downloads/Booth/results/tgl_alpha_{}_beta_{}_max_iter_20000.npy\".format(str(i), str(j)))\n",
    "        tgl_pre[i, j] = np.array([k * (np.abs(k) >= 1e-4) for k in tgl_temp])\n",
    "        tgl_g.precision_ = tgl_pre[i, j]\n",
    "        _, _, tgl_score[i, j], _ = tgl_g.eval_cov_pre() \n",
    "        \n",
    "        tgl_temp = np.load(\"/Users/sky/Downloads/Booth/results/tgl_alpha_{}_beta_{}_max_iter_20000.npy\".format(str(j), str(i)))\n",
    "        tgl_pre[j, i] = np.array([k * (np.abs(k) >= 1e-4) for k in tgl_temp])\n",
    "        tgl_g.precision_ = tgl_pre[j, i]\n",
    "        _, _, tgl_score[j, i], _ = tgl_g.eval_cov_pre() \n"
   ]
  },
  {
   "cell_type": "code",
   "execution_count": null,
   "metadata": {
    "scrolled": false
   },
   "outputs": [],
   "source": [
    "fig, ax = plt.subplots(figsize=(25, 10))\n",
    "fig.patch.set_facecolor('white')\n",
    "colors = \"rgb\"\n",
    "color_index = 0\n",
    "plt.rcParams[\"axes.prop_cycle\"] = plt.cycler(\"color\", plt.cm.tab20.colors)\n",
    "\n",
    "ax.plot(range(X_cov.shape[-1]), baseline_score_g, alpha=1, color='k', label=r'Constraint')\n",
    "\n",
    "for i in np.arange(0, .3, 0.05):\n",
    "    for j in np.arange(0, .3, 0.05):\n",
    "        mean_diff = np.mean(np.array(tgl_score[i, j]) - baseline_score_g)\n",
    "        max_diff = np.max(np.array(tgl_score[i, j]) - baseline_score_g)\n",
    "        if (mean_diff < 0.5) and (max_diff < 0.5):\n",
    "            ax.plot(range(X_cov.shape[-1]), tgl_score[i, j], alpha=0.5, label=r'TGL [{}, {}], Mean = {:.1f}, Max = {:.1f}'.format(str(round(i, 2)), str(round(j, 2)), mean_diff, max_diff))\n",
    "        mean_diff = np.mean(np.array(tgl_score[j, i]) - baseline_score_g)\n",
    "        max_diff = np.max(np.array(tgl_score[j, i]) - baseline_score_g)\n",
    "        if (mean_diff < 0.5) and (max_diff < 0.5):\n",
    "            ax.plot(range(X_cov.shape[-1]), tgl_score[j, i], alpha=0.5, label=r'TGL [{}, {}], Mean = {:.1f}, Max = {:.1f}'.format(str(round(j, 2)), str(round(i, 2)), mean_diff, max_diff))\n",
    "    \n",
    "#             label=r'Lin, Mean Diff = {:.3f}, Max Diff = {:.3f}'.format(mean_diff, max_diff))\n",
    "# mean_diff = np.mean(np.array(fit_score_) - baseline_score_g)\n",
    "# ax.plot(range(X_cov.shape[-1]), fit_score_, color='y', label=r'Vanilla TGL, Mean Diff = {:.3f}'.format(mean_diff))\n",
    "\n",
    "box = ax.get_position()\n",
    "ax.set_position([box.x0, box.y0, box.width * 0.8, box.height])\n",
    "\n",
    "# Put a legend to the right of the current axis\n",
    "ax.legend(loc='center left', bbox_to_anchor=(1, 0.5))\n",
    "\n",
    "\n",
    "# fig.legend(fontsize=20, loc='lower right', bbox_to_anchor=(0.495, 0.08, 0.5, 0.5))\n",
    "ax.set_ylabel('Negative Log-Likelihood', fontsize=25)\n",
    "ax.tick_params(axis='both', which='major', labelsize=20)\n",
    "ax.set_xlabel('Time t', fontsize=25)\n",
    "ax.set_ylim(-30, 10)\n",
    "ax.set_title(r'NLL for Constraint and TGL', fontsize=30)\n",
    "plt.savefig('ff5_ip30_20000_tgl_diff_like.pdf')"
   ]
  },
  {
   "cell_type": "code",
   "execution_count": null,
   "metadata": {},
   "outputs": [],
   "source": [
    "# pre_g = np.load(\"grad_sol_ff5_ip30_10000_rho_1e2_mult_1.1_m_50_eps_2_lap.npy\")\n",
    "pre_g = np.load(\"/Users/sky/Downloads/Booth/results/grad_long_ff5_ip30_20000_rho_1e2_mult_1.1_None_m_50_eps_2.npy\")"
   ]
  },
  {
   "cell_type": "code",
   "execution_count": null,
   "metadata": {},
   "outputs": [],
   "source": []
  },
  {
   "cell_type": "code",
   "execution_count": null,
   "metadata": {},
   "outputs": [],
   "source": [
    "tgl_g_obj = np.load(\"/Users/sky/Downloads/Booth/results/obj_grad_long_ff5_ip30_20000_rho_1e2_mult_1.1_None_m_50_eps_2.npy\")\n",
    "tgl_tpe_obj = np.load(\"/Users/sky/Downloads/Booth/results/obj_lin_long_ff5_ip30_20000_rho_1e2_mult_1.1_None_m_50_eps_2.npy\")\n",
    "\n",
    "tgl_g_obj_e = np.load(\"/Users/sky/Downloads/Booth/results/obj_grad_long_ff5_ip30_20000_rho_1e2_mult_1.1_exp_m_50_eps_2.npy\")\n",
    "tgl_tpe_obj_e = np.load(\"/Users/sky/Downloads/Booth/results/obj_lin_long_ff5_ip30_20000_rho_1e2_mult_1.1_exp_m_50_eps_2.npy\")\n",
    "\n",
    "tgl_g_obj_l = np.load(\"/Users/sky/Downloads/Booth/results/obj_grad_long_ff5_ip30_20000_rho_1e2_mult_1.1_lin_m_50_eps_2.npy\")\n",
    "tgl_tpe_obj_l = np.load(\"/Users/sky/Downloads/Booth/results/obj_lin_long_ff5_ip30_20000_rho_1e2_mult_1.1_lin_m_50_eps_2.npy\")\n",
    "\n",
    "fig, ax = plt.subplots(figsize=(20, 10))\n",
    "fig.patch.set_facecolor('white')\n",
    "colors = \"rgb\"\n",
    "color_index = 0\n",
    "plt.rcParams[\"axes.prop_cycle\"] = plt.cycler(\"color\", plt.cm.tab20.colors)\n",
    "\n",
    "ax.plot(range(len(tgl_tpe)), tgl_tpe_obj, alpha=0.5, color='blue',\n",
    "        label=r'Lin')\n",
    "ax.plot(range(len(tgl_g)), tgl_g_obj, alpha=0.5, color='green',\n",
    "        label=r'Grad')\n",
    "\n",
    "ax.plot(range(len(tgl_tpe)), tgl_tpe_obj_e, alpha=0.5, color='navy',\n",
    "        label=r'Lin E')\n",
    "ax.plot(range(len(tgl_g)), tgl_g_obj_e, alpha=0.5, color='lime',\n",
    "        label=r'Grad E')\n",
    "\n",
    "ax.plot(range(len(tgl_tpe)), tgl_tpe_obj_l, alpha=0.5, color='magenta',\n",
    "        label=r'Lin L')\n",
    "ax.plot(range(len(tgl_g)), tgl_g_obj_l, alpha=0.5, color='olive',\n",
    "        label=r'Grad L')\n",
    "\n",
    "fig.legend(fontsize=20, loc='upper right', bbox_to_anchor=(0.49, 0.44, 0.5, 0.5))\n",
    "ax.set_ylabel('Objective', fontsize=25)\n",
    "ax.tick_params(axis='both', which='major', labelsize=20)\n",
    "ax.set_xlabel('Iteration', fontsize=25)\n",
    "ax.set_title(r'Objective for Constrained ADMM', fontsize=30)\n",
    "plt.tight_layout()\n",
    "plt.savefig('ff5_20000_obj.pdf')"
   ]
  },
  {
   "cell_type": "code",
   "execution_count": null,
   "metadata": {},
   "outputs": [],
   "source": [
    "from regain.norm import l1_od_norm\n",
    "from regain.validation import check_norm_prox\n",
    "psi, prox_psi, psi_node_penalty = check_norm_prox(tgl_g.psi)\n",
    "\n",
    "def penalty_objective(Z_0, Z_1, Z_2, psi, theta):\n",
    "    \"\"\"Penalty-only objective function for time-varying graphical LASSO.\"\"\"\n",
    "    return theta * sum(map(l1_od_norm, Z_0)) + (1 - theta) * sum(map(psi, Z_2 - Z_1))\n",
    "\n",
    "pre_g_thres = {}\n",
    "fit_score_g_thres = {}\n",
    "for i in [1e-4, 1e-6, 0]:\n",
    "    pre_g_thres[i] = np.array([k * (np.abs(k) >= i) for k in pre_g])\n",
    "    tgl_g.precision_ = pre_g_thres[i]\n",
    "    emp_inv_score, baseline_score, fit_score_g_thres[i], _ = tgl_g.eval_cov_pre() \n",
    "    print(penalty_objective(pre_g_thres[i], pre_g_thres[i][:-1], pre_g_thres[i][1:], psi, tgl_g.theta))"
   ]
  },
  {
   "cell_type": "raw",
   "metadata": {},
   "source": [
    "np.save(\"grad_sol_ff5_ip30_10000_rho_1e2_mult_1.1_m_50_eps_2_lap.npy\", pre_g)"
   ]
  },
  {
   "cell_type": "raw",
   "metadata": {},
   "source": [
    "0.5 * sum(map(l1_od_norm, pre_g_thres[1e-4]))"
   ]
  },
  {
   "cell_type": "raw",
   "metadata": {},
   "source": [
    "from regain.norm import l1_od_norm\n",
    "from regain.validation import check_norm_prox\n",
    "psi, prox_psi, psi_node_penalty = check_norm_prox(tgl_g.psi)\n",
    "\n",
    "def penalty_objective(Z_0, Z_1, Z_2, psi, theta):\n",
    "    \"\"\"Penalty-only objective function for time-varying graphical LASSO.\"\"\"\n",
    "    return theta * sum(map(l1_od_norm, Z_0)) + (1 - theta) * sum(map(psi, Z_2 - Z_1))\n",
    "\n",
    "pre_tp_thres = {}\n",
    "fit_score_tp_thres = {}\n",
    "for i in [1e-4, 1e-6, 0]:\n",
    "    pre_tp_thres[i] = np.array([k * (np.abs(k) >= i) for k in pre_tp])\n",
    "    tgl_g.precision_ = pre_tp_thres[i]\n",
    "    emp_inv_score, baseline_score, fit_score_tp_thres[i], _ = tgl_g.eval_cov_pre() \n",
    "    print(penalty_objective(pre_tp_thres[i], pre_tp_thres[i][:-1], pre_tp_thres[i][1:], psi, tgl_g.theta))"
   ]
  },
  {
   "cell_type": "raw",
   "metadata": {},
   "source": [
    "0.5 * sum(map(l1_od_norm, pre_tp_thres[1e-4]))"
   ]
  },
  {
   "cell_type": "code",
   "execution_count": null,
   "metadata": {},
   "outputs": [],
   "source": [
    "# pre_tpe = np.load(\"equal_sol_ff5_ip30_10000_rho_1e2_mult_1.1_m_50_eps_2_lap.npy\")\n",
    "# pre_tpe = np.load(\"/Users/sky/Downloads/post_sum_merc/regain/lin_long_ff5_ip30_10000_rho_1e2_mult_1.1_None_m_50_eps_2.npy\")\n",
    "pre_tpe = np.load(\"/Users/sky/Downloads/Booth/results/lin_long_ff5_ip30_20000_rho_1e2_mult_1.1_None_m_50_eps_2.npy\")"
   ]
  },
  {
   "cell_type": "code",
   "execution_count": null,
   "metadata": {},
   "outputs": [],
   "source": [
    "from regain.norm import l1_od_norm\n",
    "from regain.validation import check_norm_prox\n",
    "psi, prox_psi, psi_node_penalty = check_norm_prox(tgl_g.psi)\n",
    "\n",
    "def penalty_objective(Z_0, Z_1, Z_2, psi, theta):\n",
    "    \"\"\"Penalty-only objective function for time-varying graphical LASSO.\"\"\"\n",
    "    return theta * sum(map(l1_od_norm, Z_0)) + (1 - theta) * sum(map(psi, Z_2 - Z_1))\n",
    "\n",
    "pre_tpe_thres = {}\n",
    "fit_score_tpe_thres = {}\n",
    "for i in [1e-4, 1e-6, 0]:\n",
    "    pre_tpe_thres[i] = np.array([k * (np.abs(k) >= i) for k in pre_tpe])\n",
    "    tgl_g.precision_ = pre_tpe_thres[i]\n",
    "    emp_inv_score, baseline_score, fit_score_tpe_thres[i], _ = tgl_g.eval_cov_pre() \n",
    "    print(penalty_objective(pre_tpe_thres[i], pre_tpe_thres[i][:-1], pre_tpe_thres[i][1:], psi, tgl_g.theta))"
   ]
  },
  {
   "cell_type": "raw",
   "metadata": {},
   "source": [
    "np.save(\"equal_sol_ff5_ip30_10000_rho_1e2_mult_1.1_m_50_eps_2_lap.npy\", pre_tpe)"
   ]
  },
  {
   "cell_type": "raw",
   "metadata": {},
   "source": [
    "0.5 * sum(map(l1_od_norm, pre_tpe_thres[1e-4]))"
   ]
  },
  {
   "cell_type": "raw",
   "metadata": {},
   "source": [
    "from regain.covariance import InequalityTimeGraphicalLasso, TimeGraphicalLasso\n",
    "tic = time.perf_counter()\n",
    "tgl = InequalityTimeGraphicalLasso(max_iter=20000, loss='LL', c_level=0.2, c_prox='grad', rho=5e3, theta=0.5, psi=\"laplacian\")\n",
    "emp_inv_score_grad, baseline_score_grad, fit_score_grad, pre_grad = tgl.fit_cov(X_cov).eval_cov_pre() \n",
    "toc = time.perf_counter()\n",
    "print('Running Time :{}'.format(toc - tic))"
   ]
  },
  {
   "cell_type": "raw",
   "metadata": {},
   "source": [
    "from regain.covariance import CVXInequalityTimeGraphicalLasso, TimeGraphicalLasso\n",
    "tic = time.perf_counter()\n",
    "tgl = CVXInequalityTimeGraphicalLasso(max_iter=1e4, loss='LL', c_level=0.2, theta=0.5, psi=\"l2\", tol=1e-4)\n",
    "emp_inv_score, baseline_score, fit_score, pre_cvx = tgl.fit_cov(X_cov).eval_cov_pre() \n",
    "toc = time.perf_counter()\n",
    "print('Running Time :{}'.format(toc - tic))"
   ]
  },
  {
   "cell_type": "raw",
   "metadata": {},
   "source": [
    "np.save(\"mosek_sol_ff5_30_standard_alpha_0.2.npy\", pre_cvx)"
   ]
  },
  {
   "cell_type": "code",
   "execution_count": null,
   "metadata": {},
   "outputs": [],
   "source": [
    "from regain.covariance import CVXInequalityTimeGraphicalLasso, TimeGraphicalLasso\n",
    "pre_cvx = np.load(\"mosek_sol_ff5_30_standard_alpha_0.2.npy\")"
   ]
  },
  {
   "cell_type": "code",
   "execution_count": null,
   "metadata": {},
   "outputs": [],
   "source": [
    "tgl = TimeGraphicalLasso(alpha=1., beta=1., mode='admm', rho=1, tol=1e-4,\n",
    "            rtol=1e-4, psi='laplacian', max_iter=10000, verbose=False, assume_centered=False, \n",
    "            return_history=False, update_rho_options=None, compute_objective=True, \n",
    "            stop_at=None, stop_when=1e-4, suppress_warn_list=False, init='empirical')\n",
    "fit_score_, pre_ = tgl.fit_cov(X_cov).eval_cov_pre()   "
   ]
  },
  {
   "cell_type": "raw",
   "metadata": {},
   "source": [
    "from regain.norm import l1_od_norm\n",
    "from regain.validation import check_norm_prox\n",
    "psi, prox_psi, psi_node_penalty = check_norm_prox(tgl_g.psi)\n",
    "\n",
    "def penalty_objective(Z_0, Z_1, Z_2, psi, theta):\n",
    "    \"\"\"Penalty-only objective function for time-varying graphical LASSO.\"\"\"\n",
    "    return theta * sum(map(l1_od_norm, Z_0)) + (1 - theta) * sum(map(psi, Z_2 - Z_1))\n",
    "\n",
    "pre = {}\n",
    "fit_score = {}\n",
    "# for i in [1e-2, 1e-3, 1e-4, 1e-6]:\n",
    "for i in [1e-4]:\n",
    "    pre_[i] = np.array([k * (np.abs(k) >= i) for k in pre_cvx])\n",
    "    tgl_g.precision_ = pre_[i]\n",
    "    emp_inv_score, baseline_score, fit_score[i], _ = tgl_g.eval_cov_pre() \n",
    "    print(penalty_objective(pre[i], pre[i][:-1], pre[i][1:], psi, tgl_g.theta))"
   ]
  },
  {
   "cell_type": "raw",
   "metadata": {
    "scrolled": false
   },
   "source": [
    "fig, ax = plt.subplots(figsize=(20, 10))\n",
    "fig.patch.set_facecolor('white')\n",
    "colors = \"rgm\"\n",
    "color_index = 0\n",
    "\n",
    "idx = 50\n",
    "\n",
    "ax.plot(range(X_cov.shape[0] * X_cov.shape[0]), tgl.emp_inv[idx].flatten(), color='k', label=r'Empirical Inverse')\n",
    "for i in [min_pre_tp]:\n",
    "# for i in [1e-2, 1e-3, 1e-4]:\n",
    "    ax.plot(range(X_cov.shape[0] * X_cov.shape[0]), pre[i][idx].flatten(), color='r', alpha=0.5, \n",
    "            label=r'Constraint TGL SCS, Thres = {}'.format(i))\n",
    "# for i in [2.]:    \n",
    "#     ax.plot(range(X_cov.shape[0] * X_cov.shape[0]), res[i][3][idx].flatten(), color='g', alpha=0.5,\n",
    "#             label=r'Constraint TGL ADMM CVX, Div = {}'.format(i))\n",
    "ax.plot(range(X_cov.shape[0] * X_cov.shape[0]), pre_grad[idx].flatten(), color='m', alpha=0.5,\n",
    "        label=r'Constraint TGL ADMM Gradient')\n",
    "ax.plot(range(X_cov.shape[0] * X_cov.shape[0]), pre_tp[idx].flatten(), color='g', alpha=0.5,\n",
    "        label=r'Constraint TGL ADMM Linear')\n",
    "ax.plot(range(X_cov.shape[0] * X_cov.shape[0]), pre_[idx].flatten(), color='y', label=r'Vanilla TGL')\n",
    "\n",
    "\n",
    "fig.legend(fontsize=15)\n",
    "ax.set_ylabel('Values', fontsize=15)\n",
    "ax.tick_params(axis='both', which='major', labelsize=15)\n",
    "ax.set_xlabel('Entries', fontsize=15)\n",
    "ax.set_title(r'Precisions at t={} for Empirical Inverse, TGL and Constraint TGL SCS/ADMM'.format(idx), fontsize=20)\n",
    "plt.tight_layout()\n",
    "# plt.savefig('pre_{}_{}_{}_admm_relax_taylor.pdf'.format(idx, dim_X, dim_fac))"
   ]
  },
  {
   "cell_type": "raw",
   "metadata": {
    "scrolled": false
   },
   "source": [
    "fig, ax = plt.subplots(figsize=(20, 10))\n",
    "fig.patch.set_facecolor('white')\n",
    "colors = \"rgm\"\n",
    "color_index = 0\n",
    "\n",
    "for i in [1e-4]:\n",
    "# for i in [1e-2, 1e-3, 1e-4]:\n",
    "    diff = (pre[i] -  pre_cvx).flatten()\n",
    "    ax.hist(diff, bins=100, color='r', alpha=0.5, \n",
    "            label=r'Constraint TGL SCS, Thres = {}'.format(i))\n",
    "# for i in [2.]:    \n",
    "#     diff = (res[i][3] -  pre_cvx).flatten()\n",
    "#     ax.hist(diff, bins=50, color='g', alpha=0.2,\n",
    "#             label=r'Constraint TGL ADMM CVX, Div = {}'.format(i))\n",
    "diff = (pre_grad -  pre_cvx).flatten()\n",
    "ax.hist(diff, bins=100, color='m', alpha=0.2,\n",
    "        label=r'Constraint TGL ADMM Gradient')\n",
    "diff = (pre_tp_thres[1e-4] -  pre_cvx).flatten()\n",
    "ax.hist(diff, bins=100, color='g', alpha=0.2,\n",
    "        label=r'Constraint TGL ADMM Linear')\n",
    "# diff = (pre_ -  pre_cvx).flatten()\n",
    "# ax.hist(diff, bins=100, color='y', alpha=0.5, \n",
    "#         label=r'Vanilla TGL')\n",
    "\n",
    "fig.legend(fontsize=15)\n",
    "ax.set_ylabel('Counts', fontsize=15)\n",
    "ax.set_xlabel('Values', fontsize=15)\n",
    "major_loc = MultipleLocator(base=0.1)\n",
    "ax.xaxis.set_major_locator(major_loc)\n",
    "ax.set_xlim((-2, 2))\n",
    "# ax.tick_params(axis='both', which='major', labelsize=15)\n",
    "ax.set_title(r'Difference in Precisions for TGL and Constraint TGL SCS/ADMM', fontsize=20)\n",
    "plt.tight_layout()\n",
    "# plt.savefig('pre_diff_hist_{}_{}_taylor.pdf'.format(dim_X, dim_fac))"
   ]
  },
  {
   "cell_type": "code",
   "execution_count": null,
   "metadata": {},
   "outputs": [],
   "source": [
    "fig, ax = plt.subplots(figsize=(20, 10))\n",
    "fig.patch.set_facecolor('white')\n",
    "colors = \"rgb\"\n",
    "color_index = 0\n",
    "plt.rcParams[\"axes.prop_cycle\"] = plt.cycler(\"color\", plt.cm.tab20.colors)\n",
    "\n",
    "# ax.plot(range(X_cov.shape[-1]), emp_inv_score_g, color='y', label=r'Empirical Inverse')\n",
    "ax.plot(range(X_cov.shape[-1]), baseline_score_g, alpha=0.5, color='k', label=r'Constraint')\n",
    "# for i in [1e-4]:\n",
    "#     mean_diff = np.mean(np.array(fit_score[i]) - baseline_score)\n",
    "#     ax.plot(range(X_cov.shape[-1]), fit_score[i], color='r', alpha=0.5, \n",
    "# #     ax.plot(range(X_cov.shape[-1]), fit_score[i], color=colors[color_index], alpha=0.5, \n",
    "#             label=r'Constrained MOSEK, Thres = {}, Mean Diff = {:.3f}'.format(i, mean_diff))\n",
    "#     color_index += 1\n",
    "# mean_diff = np.mean(np.array(fit_score_tp_thres[1e-4]) - baseline_score_g)\n",
    "# # ax.plot(range(X_cov.shape[-1]), fit_score_tp, alpha=0.5, color='g',\n",
    "# ax.plot(range(X_cov.shape[-1]), fit_score_tp_thres[1e-4], alpha=0.5, color='m',\n",
    "#         label=r'Constrained ADMM Full, Mean Diff = {:.3f}'.format(mean_diff))\n",
    "mean_diff = np.mean(np.array(fit_score_tpe_thres[1e-4]) - baseline_score_g)\n",
    "max_diff = np.max(np.array(fit_score_tpe_thres[1e-4]) - baseline_score_g)\n",
    "# ax.plot(range(X_cov.shape[-1]), fit_score_tp, alpha=0.5, color='g',\n",
    "ax.plot(range(X_cov.shape[-1]), fit_score_tpe_thres[1e-4], alpha=0.5, color='b',\n",
    "        label=r'Lin, Mean Diff = {:.3f}, Max Diff = {:.3f}'.format(mean_diff, max_diff))\n",
    "mean_diff = np.mean(np.array(fit_score_g_thres[1e-4]) - baseline_score_g)\n",
    "max_diff = np.max(np.array(fit_score_g_thres[1e-4]) - baseline_score_g)\n",
    "# ax.plot(range(X_cov.shape[-1]), fit_score_tp, alpha=0.5, color='g',\n",
    "ax.plot(range(X_cov.shape[-1]), fit_score_g_thres[1e-4], alpha=0.5, color='g',\n",
    "        label=r'Grad, Mean Diff = {:.3f}, Max Diff = {:.3f}'.format(mean_diff, max_diff))\n",
    "# mean_diff = np.mean(np.array(fit_score_) - baseline_score_g)\n",
    "# ax.plot(range(X_cov.shape[-1]), fit_score_, color='y', label=r'Vanilla TGL, Mean Diff = {:.3f}'.format(mean_diff))\n",
    "\n",
    "mean_diff = np.mean(np.array(tgl_score[0.05, 0]) - baseline_score_g)\n",
    "max_diff = np.max(np.array(tgl_score[0.05, 0]) - baseline_score_g)\n",
    "ax.plot(range(X_cov.shape[-1]), tgl_score[0.05, 0], color = 'r', alpha=0.5, label=r'TGL [0.05, 0], Mean = {:.1f}, Max = {:.2f}'.format(mean_diff, max_diff))\n",
    "\n",
    "# mean_diff = np.mean(np.array(tgl_score[0.05, 0.05]) - baseline_score_g)\n",
    "# max_diff = np.max(np.array(tgl_score[0.05, 0.05]) - baseline_score_g)\n",
    "# ax.plot(range(X_cov.shape[-1]), tgl_score[0.05, 0.05], color = 'm', alpha=0.5, label=r'TGL [0.05, 0.05], Mean = {:.1f}, Max = {:.2f}'.format(mean_diff, max_diff))\n",
    "\n",
    "mean_diff = np.mean(np.array(tgl_score[0.05, 0.1]) - baseline_score_g)\n",
    "max_diff = np.max(np.array(tgl_score[0.05, 0.1]) - baseline_score_g)\n",
    "ax.plot(range(X_cov.shape[-1]), tgl_score[0.05, 0.1], color = 'darkorange', alpha=0.5, label=r'TGL [0.05, 0.1], Mean = {:.1f}, Max = {:.1f}'.format(mean_diff, max_diff))\n",
    "\n",
    "\n",
    "fig.legend(fontsize=20, loc='lower right', bbox_to_anchor=(0.495, 0.08, 0.5, 0.5))\n",
    "ax.set_ylabel('Negative Log-Likelihood', fontsize=25)\n",
    "ax.tick_params(axis='both', which='major', labelsize=20)\n",
    "ax.set_xlabel('Time t', fontsize=25)\n",
    "ax.set_title(r'NLL for Constraint and Constrained ADMM', fontsize=30)\n",
    "plt.tight_layout()\n",
    "plt.savefig('ff5_ip30_20000_long_None_diff_like_indiv.pdf')"
   ]
  },
  {
   "cell_type": "raw",
   "metadata": {},
   "source": [
    "fit_scores = np.array(fit_score_g_thres[1e-4]) - baseline_score_g\n",
    "print((fit_scores > 0.1) * fit_scores)\n",
    "print(np.max(fit_scores))\n",
    "# print(np.sum((np.array(fit_score_g_thres[1e-4]) - baseline_score_g) > 0.1))"
   ]
  },
  {
   "cell_type": "raw",
   "metadata": {},
   "source": [
    "fit_scores = np.array(fit_score_tpe_thres[1e-4]) - baseline_score_g\n",
    "print((fit_scores > 0.1) * fit_scores)\n",
    "print(np.max(fit_scores))"
   ]
  },
  {
   "cell_type": "code",
   "execution_count": null,
   "metadata": {},
   "outputs": [],
   "source": [
    "fig, ax = plt.subplots(figsize=(20, 10))\n",
    "fig.patch.set_facecolor('white')\n",
    "colors = \"rgb\"\n",
    "color_index = 0\n",
    "\n",
    "# ax.plot(range(X_cov.shape[-1]), [sum(sum(abs(emp_inv[k]) > 0)) for k in range(X_cov.shape[-1])], \n",
    "#         alpha=0.5, color='k', label=r'Empirical Inverse')\n",
    "# for i in [min_pre_tp]:\n",
    "# for i in [1e-4]:\n",
    "#     supp = [sum(sum(abs(pre[i][t]) > 0)) for t in range(X_cov.shape[-1])]\n",
    "#     mean_supp = np.mean(supp)\n",
    "#     ax.plot(range(X_cov.shape[-1]), supp, color='r', alpha=0.5, \n",
    "# #     ax.plot(range(X_cov.shape[-1]), supp, color=colors[color_index], alpha=0.5, \n",
    "#             label=r'Constrained MOSEK, Thres = {}, Mean Supp = {}'.format(i, mean_supp))\n",
    "#     color_index += 1\n",
    "# supp = [sum(sum(abs(pre_grad[t]) > 0)) for t in range(X_cov.shape[-1])]\n",
    "# ax.plot(range(X_cov.shape[-1]), supp, color='m', alpha=0.5,\n",
    "#         label=r'Constraint TGL ADMM Gradient, Mean Supp = {:.3f}'.format(np.mean(supp)))\n",
    "# supp = [sum(sum(abs(pre_tp_thres[1e-4][t]) > 0)) for t in range(X_cov.shape[-1])]\n",
    "# # supp = [sum(sum(abs(pre_tp[t]) > 0)) for t in range(X_cov.shape[-1])]\n",
    "# ax.plot(range(X_cov.shape[-1]), supp, color='m', alpha=0.5,\n",
    "#         label=r'Constrained ADMM Full, Mean Supp = {:.3f}'.format(np.mean(supp)))\n",
    "supp = [sum(sum(abs(pre_tpe_thres[1e-4][t]) > 0)) for t in range(X_cov.shape[-1])]\n",
    "# supp = [sum(sum(abs(pre_tp[t]) > 0)) for t in range(X_cov.shape[-1])]\n",
    "ax.plot(range(X_cov.shape[-1]), supp, color='b', alpha=0.5,\n",
    "        label=r'Lin, Mean Supp = {:.3f}'.format(np.mean(supp)))\n",
    "supp = [sum(sum(abs(pre_g_thres[1e-4][t]) > 0)) for t in range(X_cov.shape[-1])]\n",
    "# supp = [sum(sum(abs(pre_tp[t]) > 0)) for t in range(X_cov.shape[-1])]\n",
    "ax.plot(range(X_cov.shape[-1]), supp, color='g', alpha=0.5,\n",
    "        label=r'Grad, Mean Supp = {:.3f}'.format(np.mean(supp)))\n",
    "# supp = [sum(sum(abs(pre_[t]) > 0)) for t in range(X_cov.shape[-1])]\n",
    "# ax.plot(range(X_cov.shape[-1]), [sum(sum(abs(pre_[k]) > 0)) for k in range(X_cov.shape[-1])], \n",
    "#         color='y', label=r'Vanilla TGL, , Mean Supp = {:.3f}'.format(np.mean(supp)))\n",
    "\n",
    "\n",
    "supp = [sum(sum(abs(tgl_pre[0.05, 0][t]) > 0)) for t in range(X_cov.shape[-1])]\n",
    "ax.plot(range(X_cov.shape[-1]), supp, color='r', alpha=0.5, label=r'TGL [{:.2f}, {:.2f}], Mean Supp = {:.1f}'.format(0.05, 0, np.mean(supp)))\n",
    "# supp = [sum(sum(abs(tgl_pre[0.05, 0.05][t]) > 0)) for t in range(X_cov.shape[-1])]\n",
    "# ax.plot(range(X_cov.shape[-1]), supp, color='m', alpha=0.5, label=r'TGL [{:.2f}, {:.2f}], Mean Supp = {:.1f}'.format(0.05, 0.05, np.mean(supp)))\n",
    "supp = [sum(sum(abs(tgl_pre[0.05, 0.1][t]) > 0)) for t in range(X_cov.shape[-1])]\n",
    "ax.plot(range(X_cov.shape[-1]), supp, color='darkorange', alpha=0.5, label=r'TGL [{:.2f}, {:.2f}], Mean Supp = {:.1f}'.format(0.05, 0.1, np.mean(supp)))\n",
    "\n",
    "\n",
    "fig.legend(fontsize=20, loc='upper right', bbox_to_anchor=(0.495, 0.45, 0.5, 0.5))\n",
    "ax.set_ylabel('Support', fontsize=25)\n",
    "ax.tick_params(axis='both', which='major', labelsize=20)\n",
    "ax.set_xlabel('Time t', fontsize=25)\n",
    "ax.set_title(r'Support for Constrained ADMM', fontsize=30)\n",
    "plt.tight_layout()\n",
    "plt.savefig('ff5_ip30_20000_long_None_diff_supp_indiv.pdf')"
   ]
  },
  {
   "cell_type": "code",
   "execution_count": null,
   "metadata": {},
   "outputs": [],
   "source": [
    "fig, ax = plt.subplots(figsize=(20, 10))\n",
    "fig.patch.set_facecolor('white')\n",
    "colors = \"rgb\"\n",
    "color_index = 0\n",
    "\n",
    "# diff_emp = [norm(emp_inv[t] - emp_inv[t-1], 'fro') for t in range(1, X_cov.shape[-1])]\n",
    "# ax.plot(range(1, X_cov.shape[-1]), np.array(diff_emp), alpha=1, color='k', label=r'Empirical Inverse')\n",
    "# for i in [min_pre_tp]:\n",
    "# for i in [1e-4]:\n",
    "#     diff = [norm(pre[i][t] - pre[i][t-1], 'fro') for t in range(1, X_cov.shape[-1])]\n",
    "#     mean_diff = np.mean(diff)\n",
    "#     ax.plot(range(1, X_cov.shape[-1]), diff, color='r', alpha=0.5, \n",
    "# #     ax.plot(range(1, X_cov.shape[-1]), diff, color=colors[color_index], alpha=0.5, \n",
    "#             label=r'Constrained MOSEK, Thres = {}, Mean Diff = {:.3f}'.format(i, mean_diff))\n",
    "#     color_index += 1\n",
    "# diff_grad = [norm(pre_grad[t] - pre_grad[t-1], 'fro') for t in range(1, X_cov.shape[-1])]\n",
    "# ax.plot(range(1, X_cov.shape[-1]), diff_grad, color='m', alpha=0.5,\n",
    "#         label=r'Constraint TGL ADMM Gradient, Mean Diff = {:.3f}'.format(np.mean(diff_grad)))\n",
    "diff_grad = [norm(pre_tpe_thres[1e-4][t] - pre_tpe_thres[1e-4][t-1], 'fro') for t in range(1, X_cov.shape[-1])]\n",
    "# diff_grad = [norm(pre_tp[t] - pre_tp[t-1], 'fro') for t in range(1, X_cov.shape[-1])]\n",
    "ax.plot(range(1, X_cov.shape[-1]), diff_grad, color='b', alpha=0.5,\n",
    "        label=r'Lin, Mean Diff = {:.3f}'.format(np.mean(diff_grad)))\n",
    "diff_grad = [norm(pre_g_thres[1e-4][t] - pre_g_thres[1e-4][t-1], 'fro') for t in range(1, X_cov.shape[-1])]\n",
    "# diff_grad = [norm(pre_tp[t] - pre_tp[t-1], 'fro') for t in range(1, X_cov.shape[-1])]\n",
    "ax.plot(range(1, X_cov.shape[-1]), diff_grad, color='g', alpha=0.5,\n",
    "        label=r'Grad, Mean Diff = {:.3f}'.format(np.mean(diff_grad)))\n",
    "# diff_grad = [norm(pre_tp_thres[1e-4][t] - pre_tp_thres[1e-4][t-1], 'fro') for t in range(1, X_cov.shape[-1])]\n",
    "# # diff_grad = [norm(pre_tp[t] - pre_tp[t-1], 'fro') for t in range(1, X_cov.shape[-1])]\n",
    "# ax.plot(range(1, X_cov.shape[-1]), diff_grad, color='m', alpha=0.5,\n",
    "#         label=r'Constraint ADMM Full, Mean Diff = {:.3f}'.format(np.mean(diff_grad)))\n",
    "diff_fit_ = [norm(pre_[t] - pre_[t-1], 'fro') for t in range(1, X_cov.shape[-1])]\n",
    "ax.plot(range(1, X_cov.shape[-1]), np.array(diff_fit_), color='y', alpha=0.5, \n",
    "        label=r'TGL, Mean Diff = {:.3f}'.format(np.mean(diff_fit_)))\n",
    "\n",
    "diff_fit_ = [norm(tgl_pre[0.05, 0][t] - tgl_pre[0.1, 0][t-1], 'fro') for t in range(1, X_cov.shape[-1])]\n",
    "ax.plot(range(1, X_cov.shape[-1]), np.array(diff_fit_), color='r', alpha=0.5, \n",
    "        label=r'TGL [0.05, 0], Mean Diff = {:.3f}'.format(np.mean(diff_fit_)))\n",
    "\n",
    "diff_fit_ = [norm(tgl_pre[0.05, 0.1][t] - tgl_pre[0.1, 0.1][t-1], 'fro') for t in range(1, X_cov.shape[-1])]\n",
    "ax.plot(range(1, X_cov.shape[-1]), np.array(diff_fit_), color='darkorange', alpha=0.5, \n",
    "        label=r'TGL [0.05, 0.1], Mean Diff = {:.3f}'.format(np.mean(diff_fit_)))\n",
    "\n",
    "fig.legend(fontsize=20, loc='upper right', bbox_to_anchor=(0.495, 0.45, 0.5, 0.5))\n",
    "ax.set_ylabel('Difference in Frobenius Norm', fontsize=25)\n",
    "ax.tick_params(axis='both', which='major', labelsize=20)\n",
    "ax.set_xlabel('Time t', fontsize=25)\n",
    "ax.set_title(r'Difference in Frobenius Norm for Constrained ADMM and TGL', fontsize=30)\n",
    "plt.tight_layout()\n",
    "plt.savefig('ff5_ip30_20000_long_None_diff_fro_indiv.pdf')"
   ]
  },
  {
   "cell_type": "code",
   "execution_count": null,
   "metadata": {},
   "outputs": [],
   "source": [
    "import networkx as nx\n",
    "labels_ = ['Food','Beer','Smoke','Games','Books','Hshld','Clths','Hlth','Chems','Txtls','Cnstr','Steel','FabPr','ElcEq','Autos','Carry','Mines','Coal','Oil','Util','Telcm','Servs','BusEq','Paper','Trans','Whlsl','Rtail','Meals','Fin','Other']\n",
    "labels = {}\n",
    "for i in range(len(labels_)):\n",
    "    labels[i] = labels_[i]"
   ]
  },
  {
   "cell_type": "code",
   "execution_count": null,
   "metadata": {},
   "outputs": [],
   "source": [
    "labels"
   ]
  },
  {
   "cell_type": "code",
   "execution_count": null,
   "metadata": {},
   "outputs": [],
   "source": [
    "def circular_layout(G, index, scale=0.1, center=None, dim=2):\n",
    "    # dim=2 only\n",
    "    \"\"\"Position nodes on a circle.\n",
    "\n",
    "    Parameters\n",
    "    ----------\n",
    "    G : NetworkX graph or list of nodes\n",
    "        A position will be assigned to every node in G.\n",
    "\n",
    "    scale : number (default: 1)\n",
    "        Scale factor for positions.\n",
    "\n",
    "    center : array-like or None\n",
    "        Coordinate pair around which to center the layout.\n",
    "\n",
    "    dim : int\n",
    "        Dimension of layout.\n",
    "        If dim>2, the remaining dimensions are set to zero\n",
    "        in the returned positions.\n",
    "        If dim<2, a ValueError is raised.\n",
    "\n",
    "    Returns\n",
    "    -------\n",
    "    pos : dict\n",
    "        A dictionary of positions keyed by node\n",
    "\n",
    "    Raises\n",
    "    -------\n",
    "    ValueError\n",
    "        If dim < 2\n",
    "\n",
    "    Examples\n",
    "    --------\n",
    "    >>> G = nx.path_graph(4)\n",
    "    >>> pos = nx.circular_layout(G)\n",
    "\n",
    "    Notes\n",
    "    -----\n",
    "    This algorithm currently only works in two dimensions and does not\n",
    "    try to minimize edge crossings.\n",
    "\n",
    "    \"\"\"\n",
    "    import numpy as np\n",
    "\n",
    "    if dim < 2:\n",
    "        raise ValueError(\"cannot handle dimensions < 2\")\n",
    "\n",
    "    # Discard the extra angle since it matches 0 radians.\n",
    "    theta = np.linspace(0, 1, len(G))[:-1] * 2 * np.pi\n",
    "    theta = theta.astype(np.float32)\n",
    "    pos = np.column_stack(\n",
    "            [np.cos(theta), np.sin(theta)]\n",
    "        )\n",
    "    pos = nx.rescale_layout(pos, scale=scale)\n",
    "    centre = [0, pos[0][1]]\n",
    "#     pdb.set_trace()\n",
    "#     pos = np.vstack((centre, pos))\n",
    "    pos = np.insert(pos, index, centre, 0) \n",
    "    pos = dict(zip(G, pos))\n",
    "\n",
    "    return pos"
   ]
  },
  {
   "cell_type": "code",
   "execution_count": null,
   "metadata": {},
   "outputs": [],
   "source": [
    "def yearly_probabilities(precisions, div, thres, index, labels):\n",
    "    \n",
    "    import math\n",
    "    from matplotlib.gridspec import GridSpec\n",
    "    \n",
    "    time_points, _, _ = precisions.shape\n",
    "    n_years = np.floor(time_points / div).astype(int)\n",
    "    \n",
    "    # conditional dependencies\n",
    "    probs = {}\n",
    "    # probability values\n",
    "    vals = set()\n",
    "    \n",
    "    for i in range(n_years):\n",
    "        for j in range(div):\n",
    "            # accumulate indicators for conditional dependence\n",
    "            try:\n",
    "                probs[i] += (abs(precisions[(i * div) + j][index]) > 0).astype(int)\n",
    "            except KeyError:\n",
    "                probs[i] = (abs(precisions[(i * div) + j][index]) > 0).astype(int)\n",
    "        # get conditional dependencies for ith plot\n",
    "        probs[i] = (probs[i] / div) * (probs[i] / div > thres) \n",
    "        # get union of possible probabilities\n",
    "        vals = vals | set(probs[i])          \n",
    "            \n",
    "    vals = vals - {0}\n",
    "    \n",
    "    # define figure\n",
    "    nrow = math.ceil(len(probs.keys()) / 4)\n",
    "    ncol = 4\n",
    "        \n",
    "    fig = plt.figure(figsize=(12 * ncol, 12 * nrow), \n",
    "                     constrained_layout=True)\n",
    "    # set widths\n",
    "    widths = np.ones(ncol+1)\n",
    "    widths[-1] = 0.05\n",
    "    # set grid\n",
    "    gs = GridSpec(nrow, ncol+1, figure=fig, width_ratios=widths)\n",
    "\n",
    "    cmap=plt.cm.get_cmap('viridis', len(vals))\n",
    "    \n",
    "    axes = []\n",
    "    for i in range(nrow):\n",
    "        for j in range(ncol):\n",
    "            axes.append(fig.add_subplot(gs[i, j]))\n",
    "            k = i * 4 + j\n",
    "            # remove index of interest\n",
    "            probs_i_ = np.array(np.delete(probs[k], index))\n",
    "            # remove label of index of interest\n",
    "            rows = np.delete(np.arange(len(labels)), index)\n",
    "            cols = [index] * (len(rows))\n",
    "            edges = [e for e in zip(cols, rows.tolist(), probs_i_)]\n",
    "            edges = [e for e in edges if (e[2] > 0)]\n",
    "            probs_i = np.array([p for p in probs_i_ if p > 0])\n",
    "            gr = nx.Graph()\n",
    "            gr.add_nodes_from(range(len(labels)))\n",
    "            gr.add_weighted_edges_from(edges)\n",
    "            pos = circular_layout(gr, index, 0.4)\n",
    "            nx.draw_networkx_nodes(gr, pos, ax=axes[-1], node_size=4500)\n",
    "            edges = nx.draw_networkx_edges(gr, pos, ax=axes[-1], width=10, edge_cmap=cmap, edge_color=probs_i)\n",
    "            nx.draw_networkx_labels(gr, pos, ax=axes[-1], labels=labels, font_size=20, font_color='white')\n",
    "            axes[-1].set_title('{} - {}'.format(1965 + 8 * k, 1965 + 8 * (k + 1) - 1), fontsize=30)\n",
    "            \n",
    "    axes.append(fig.add_subplot(gs[:, ncol]))\n",
    "    cbar = fig.colorbar(edges, cax=axes[-1], ticks=np.arange(0.45, 1.05, 0.05))\n",
    "    cbar.ax.tick_params(labelsize=30)\n",
    "    fig.suptitle('Edge Probabilities for {}'.format(labels[index].title()), fontsize=60)\n",
    "    \n",
    "    plt.savefig('plots/yp_{}.pdf'.format(labels[index].lower()))"
   ]
  },
  {
   "cell_type": "code",
   "execution_count": null,
   "metadata": {},
   "outputs": [],
   "source": [
    "def yearly_diff_probabilities(precisions, div, thres, index, labels):\n",
    "    import math\n",
    "     \n",
    "    time_points, _, _ = precisions.shape\n",
    "    n_years = np.floor(time_points / div).astype(int)\n",
    "\n",
    "    probs = {}\n",
    "    \n",
    "    for i in range(n_years):\n",
    "        for j in range(div):\n",
    "            try:\n",
    "                probs[i] += (abs(precisions[(i * div) + j][index]) > 0).astype(int)\n",
    "            except KeyError:\n",
    "                probs[i] = (abs(precisions[(i * div) + j][index]) > 0).astype(int)\n",
    "        probs[i] = probs[i] / div\n",
    "        \n",
    "    probs_diff = {}\n",
    "\n",
    "#     probs_diff[0] = probs[0] * (probs[0] > thres)\n",
    "#     print(probs_diff[0])\n",
    "    \n",
    "    for i in range(1, n_years):\n",
    "        probs_diff[i] = (probs[i] - probs[i-1]) * (abs(probs[i] - probs[i-1]) > thres)     \n",
    "    \n",
    "    fig, axes = plt.subplots(nrows=4, ncols=math.ceil(len(probs.keys()) / 4), figsize=(12 * math.ceil(len(probs.keys()) / 2), 12 * 8))\n",
    "#     fig, axes = plt.subplots(nrows=2, ncols=math.ceil(len(probs.keys()) / 4), figsize=(12 * math.ceil(len(probs.keys()) / 2), 12 * 8))\n",
    "    fig.suptitle('Yearly Edge Probabilities for {}'.format(labels[index].title()), fontsize=100)\n",
    "    \n",
    "    for i in probs_diff.keys():\n",
    "        probs_i_ = np.array(np.delete(probs_diff[i], index))\n",
    "        rows = np.delete(np.arange(len(labels)), index)\n",
    "        cols = [index] * (len(rows))\n",
    "        edges = [e for e in zip(cols, rows.tolist(), probs_i_)]\n",
    "        edges = [e for e in edges if (e[2] != 0)]\n",
    "        probs_i = np.array([p for p in probs_i_ if p != 0])\n",
    "        gr = nx.Graph()\n",
    "        gr.add_nodes_from(range(len(labels)))\n",
    "        gr.add_weighted_edges_from(edges)\n",
    "        pos = circular_layout(gr, index)\n",
    "        nx.draw_networkx_nodes(gr, pos, ax=axes.flat[i], node_size=10000)\n",
    "        if i == 0:\n",
    "            edges = nx.draw_networkx_edges(gr, pos, ax=axes.flat[i], width=10) \n",
    "        else:\n",
    "            edges = nx.draw_networkx_edges(gr, pos, ax=axes.flat[i], width=10, edge_cmap=plt.cm.winter, edge_color=probs_i)\n",
    "        nx.draw_networkx_labels(gr, pos, ax=axes.flat[i], labels=labels, font_size=40, font_color='white')\n",
    "\n",
    "    plt.tight_layout()\n",
    "    fig.subplots_adjust(top=0.95, right=0.95)\n",
    "    cbar_ax = fig.add_axes([0.975, 0.05, 0.015, 0.9])\n",
    "    cbar = fig.colorbar(edges, cax=cbar_ax)\n",
    "    cbar.ax.tick_params(labelsize=30)\n",
    "    \n",
    "    plt.savefig('plots/ydp_{}.pdf'.format(labels[index].lower()))    "
   ]
  },
  {
   "cell_type": "code",
   "execution_count": null,
   "metadata": {},
   "outputs": [],
   "source": [
    "def degree(precisions, index, labels):\n",
    "    import math\n",
    "    import matplotlib.dates as mdates\n",
    "    from scipy.interpolate import UnivariateSpline\n",
    "    \n",
    "    time_points, _, _ = precisions.shape\n",
    "    \n",
    "    degrees = []\n",
    "    \n",
    "    for i in range(time_points):\n",
    "        degrees.append(sum(precisions[i][index] != 0))\n",
    "        \n",
    "    fig, ax = plt.subplots(figsize=(10, 8))\n",
    "    # smooth using yearly rolling averages\n",
    "    kernel_size = 12\n",
    "    ave = np.convolve(degrees, np.ones(kernel_size) / kernel_size, mode='same')\n",
    "    # fit with spline with k = 3\n",
    "    spline = UnivariateSpline(range(time_points)[12:(time_points - 12)], ave[12:(time_points - 12)], k=3)\n",
    "    # plot fitted spline \n",
    "    ax.plot(np.arange(np.datetime64('1965-01'), np.datetime64('1997-01')), spline(range(time_points)))\n",
    "    \n",
    "    ax.set_ylabel('Degree')\n",
    "    ax.set_xlabel('Year')\n",
    "    ax.xaxis.set_major_locator(mdates.YearLocator(5))\n",
    "    ax.xaxis.set_minor_locator(mdates.YearLocator())\n",
    "    ax.xaxis.set_major_formatter(mdates.DateFormatter('%Y'))\n",
    "    plt.title('Degree over Year for {}'.format(labels[index].title()))\n",
    "    plt.tight_layout()\n",
    "\n",
    "    plt.savefig('plots/deg_{}.pdf'.format(labels[index].lower()))  "
   ]
  },
  {
   "cell_type": "code",
   "execution_count": null,
   "metadata": {
    "scrolled": false
   },
   "outputs": [],
   "source": [
    "for i in [10, 13, 17, 18, 21, 23, 28]:\n",
    "# for i in [10]:\n",
    "#     yearly_probabilities(pre_tpe_thres[1e-4][8:392], 96, 0.5, i, labels)\n",
    "#     yearly_diff_probabilities(pre_tpe_thres[1e-4][8:], 24, 0.1, i, labels)\n",
    "    degree(pre_tpe_thres[1e-4][8:392], i, labels)"
   ]
  },
  {
   "cell_type": "code",
   "execution_count": null,
   "metadata": {},
   "outputs": [],
   "source": [
    "def yearly_probabilities(precisions, labels):\n",
    "    import math\n",
    "\n",
    "    time_points, _, _ = precisions.shape\n",
    "    n_years = np.floor(time_points / 12).astype(int)\n",
    "\n",
    "    probs = {}\n",
    "    \n",
    "    for i in range(n_years):\n",
    "        for j in range(12):\n",
    "            try:\n",
    "                probs[i] += (abs(precisions[(i*12) + j]) > 0).astype(int)\n",
    "            except KeyError:\n",
    "                probs[i] = (abs(precisions[(i*12) + j]) > 0).astype(int)\n",
    "        probs[i] = probs[i] / 12\n",
    "        \n",
    "    fig, axes = plt.subplots(nrows=2, ncols=int(len(probs.keys()) / 2), figsize=(12 * int(len(probs.keys()) / 2), 12 * 2 ))\n",
    "    fig.suptitle('Yearly Edge Probabilities', fontsize=40)\n",
    "    \n",
    "    for i in probs.keys():\n",
    "#         pdb.set_trace()\n",
    "        gr = nx.from_numpy_matrix(probs[i])\n",
    "#         gr.add_nodes_from(range(len(labels)))\n",
    "#         gr.add_weighted_edges_from(probs[i])\n",
    "        pos = nx.spring_layout(gr)\n",
    "        nx.draw_networkx_nodes(gr, pos, ax=axes.flat[i], node_size=4000)\n",
    "        edges = nx.draw_networkx_edges(gr, pos, ax=axes.flat[i])\n",
    "        nx.draw_networkx_labels(gr, pos, ax=axes.flat[i], labels=labels, font_size=20, font_color='white')\n",
    "\n",
    "#         nx.draw(gr, pos, ax=axes[i], node_size=1500, font_color='white', labels=labels, with_labels=True, cmap=cmap, node_color=prob)\n",
    "    #     pdb.set_trace()\n",
    "        axis = plt.gca()\n",
    "#         fig.subplots_adjust(right=0.8)\n",
    "#         cbar_ax = fig.add_axes([0.85, 0.15, 0.05, 0.7])\n",
    "    plt.tight_layout()\n",
    "    fig.subplots_adjust(top=0.95, right=0.95)\n",
    "    cbar_ax = fig.add_axes([0.975, 0.05, 0.015, 0.9])\n",
    "    cbar = fig.colorbar(edges, cax=cbar_ax)\n",
    "    cbar.ax.tick_params(labelsize=30)\n",
    "    \n",
    "#     plt.axis(\"off\")\n",
    "    plt.show()"
   ]
  },
  {
   "cell_type": "code",
   "execution_count": null,
   "metadata": {},
   "outputs": [],
   "source": [
    "yearly_probabilities(pre_tpe_thres[1e-4], labels)"
   ]
  },
  {
   "cell_type": "code",
   "execution_count": null,
   "metadata": {},
   "outputs": [],
   "source": [
    "total_diff = abs(prob_diff[1])\n",
    "\n",
    "for i in range(2, n_years):\n",
    "    total_diff += abs(prob_diff[i])"
   ]
  },
  {
   "cell_type": "code",
   "execution_count": null,
   "metadata": {},
   "outputs": [],
   "source": [
    "change = []\n",
    "for i in range(len(labels_)):\n",
    "    if total_diff[i] == 0:\n",
    "        change.append(labels_[i])\n",
    "        \n",
    "print(change)"
   ]
  },
  {
   "cell_type": "code",
   "execution_count": null,
   "metadata": {},
   "outputs": [],
   "source": [
    "factor = {}\n",
    "\n",
    "for i in range(n_years):\n",
    "    g = (prob[i] > 0.8)\n",
    "    factor[i] = []\n",
    "    for j in range(len(labels_)):\n",
    "        if g[j] == 1:\n",
    "            factor[i].append(labels_[j])\n",
    "            \n",
    "print(factor)\n",
    "\n",
    "for i in range(1, n_years):\n",
    "    curr = set(factor[i])\n",
    "    prev = set(factor[i-1])\n",
    "    print(curr.intersection(prev))"
   ]
  },
  {
   "cell_type": "code",
   "execution_count": null,
   "metadata": {},
   "outputs": [],
   "source": [
    "fig, ax = plt.subplots(figsize=(20, 20))\n",
    "G = nx.from_numpy_matrix(np.array(pre_tpe_thres[1e-4][50])) \n",
    "partition = nx.algorithms.community.greedy_modularity_communities(G)\n",
    "print(list(partition))\n",
    "# G = nx.relabel_nodes(G, labels)\n",
    "cmap = cm.get_cmap('viridis', length(partition) + 1)\n",
    "nx.draw_circular(G, node_size=1500, font_color='white', labels=labels, with_labels=True, cmap=cmap, node_color=list(partition.values())) \n",
    "\n",
    "# nx.draw_spring(G, node_size=1500, font_color='white', labels=labels, with_labels=True) \n",
    "# print(list(nx.enumerate_all_cliques(G)))"
   ]
  },
  {
   "cell_type": "code",
   "execution_count": null,
   "metadata": {},
   "outputs": [],
   "source": [
    "import community as community_louvain\n",
    "import matplotlib.cm as cm\n",
    "import matplotlib.pyplot as plt\n",
    "G = nx.from_numpy_matrix(np.array(pre_tpe_thres[1e-4][51])) \n",
    "# partition = community_louvain.best_partition(G)\n",
    "partition = nx.algorithms.community.greedy_modularity_communities(G)\n",
    "print(partition)\n",
    "# pos = nx.spring_layout(G)\n",
    "# color the nodes according to their partition\n",
    "fig, ax = plt.subplots(figsize=(20, 20))\n",
    "cmap = cm.get_cmap('viridis', max(partition.values()) + 1)\n",
    "nx.draw_circular(G, node_size=1500, font_color='white', labels=labels, with_labels=True, cmap=cmap, node_color=list(partition.values())) \n",
    "plt.show()"
   ]
  },
  {
   "cell_type": "code",
   "execution_count": null,
   "metadata": {},
   "outputs": [],
   "source": [
    "fig, ax = plt.subplots(figsize=(20, 20))\n",
    "G = nx.from_numpy_matrix(np.array(pre_tpe_thres[1e-4][51])) \n",
    "# G = nx.relabel_nodes(G, labels)\n",
    "nx.draw_circular(G, node_size=1500, font_color='white', labels=labels, with_labels=True) "
   ]
  },
  {
   "cell_type": "code",
   "execution_count": null,
   "metadata": {},
   "outputs": [],
   "source": [
    "fig, ax = plt.subplots(figsize=(20, 20))\n",
    "G = nx.from_numpy_matrix(np.array(pre_tpe_thres[1e-4][52])) \n",
    "# G = nx.relabel_nodes(G, labels)\n",
    "nx.draw_circular(G, node_size=1500, font_color='white', labels=labels, with_labels=True) "
   ]
  },
  {
   "cell_type": "code",
   "execution_count": null,
   "metadata": {},
   "outputs": [],
   "source": [
    "fig, ax = plt.subplots(figsize=(20, 20))\n",
    "G = nx.from_numpy_matrix(np.array(pre_tpe_thres[1e-4][53])) \n",
    "# G = nx.relabel_nodes(G, labels)\n",
    "nx.draw_circular(G, node_size=1500, font_color='white', labels=labels, with_labels=True) "
   ]
  },
  {
   "cell_type": "code",
   "execution_count": null,
   "metadata": {},
   "outputs": [],
   "source": [
    "show_graph_with_labels(abs(pre_tpe_thres[1e-4][50][0]) > 0, pos, 0, labels)"
   ]
  },
  {
   "cell_type": "code",
   "execution_count": null,
   "metadata": {},
   "outputs": [],
   "source": [
    "show_graph_with_labels(abs(pre_tpe_thres[1e-4][51][0]) > 0, pos, 0, labels)"
   ]
  },
  {
   "cell_type": "code",
   "execution_count": null,
   "metadata": {},
   "outputs": [],
   "source": [
    "show_graph_with_labels(abs(pre_tpe_thres[1e-4][52][0]) > 0, pos, 0, labels)"
   ]
  },
  {
   "cell_type": "code",
   "execution_count": null,
   "metadata": {},
   "outputs": [],
   "source": [
    "show_graph_with_labels(abs(pre_tpe_thres[1e-4][53][0]) > 0, pos, 0, labels)"
   ]
  },
  {
   "cell_type": "code",
   "execution_count": null,
   "metadata": {},
   "outputs": [],
   "source": []
  }
 ],
 "metadata": {
  "kernelspec": {
   "display_name": "Python 3 (ipykernel)",
   "language": "python",
   "name": "python3"
  },
  "language_info": {
   "codemirror_mode": {
    "name": "ipython",
    "version": 3
   },
   "file_extension": ".py",
   "mimetype": "text/x-python",
   "name": "python",
   "nbconvert_exporter": "python",
   "pygments_lexer": "ipython3",
   "version": "3.7.4"
  }
 },
 "nbformat": 4,
 "nbformat_minor": 4
}
